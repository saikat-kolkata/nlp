{
 "cells": [
  {
   "cell_type": "markdown",
   "metadata": {},
   "source": [
    "## Latent Dirichlet Allocation"
   ]
  },
  {
   "cell_type": "code",
   "execution_count": 1,
   "metadata": {},
   "outputs": [],
   "source": [
    "import pandas as pd\n",
    "import numpy as np\n",
    "import matplotlib.pyplot as plt\n",
    "\n",
    "import nltk\n",
    "import re\n",
    "\n",
    "from gensim.models import Word2Vec\n",
    "from nltk.tokenize import word_tokenize\n",
    "\n",
    "import warnings\n",
    "warnings.filterwarnings(\"ignore\")"
   ]
  },
  {
   "cell_type": "code",
   "execution_count": 2,
   "metadata": {},
   "outputs": [],
   "source": [
    "import string\n",
    "import spacy"
   ]
  },
  {
   "cell_type": "code",
   "execution_count": 3,
   "metadata": {},
   "outputs": [],
   "source": [
    "#gensim for LDA\n",
    "import gensim\n",
    "import gensim.corpora as corpora\n",
    "from gensim.utils import simple_preprocess\n",
    "from gensim.models import CoherenceModel\n",
    "\n",
    "#plotting tools\n",
    "import pyLDAvis\n",
    "import pyLDAvis.gensim_models  #dont skip this\n",
    "import matplotlib.pyplot as plt\n",
    "%matplotlib inline"
   ]
  },
  {
   "cell_type": "code",
   "execution_count": 4,
   "metadata": {},
   "outputs": [
    {
     "data": {
      "text/html": [
       "<div>\n",
       "<style scoped>\n",
       "    .dataframe tbody tr th:only-of-type {\n",
       "        vertical-align: middle;\n",
       "    }\n",
       "\n",
       "    .dataframe tbody tr th {\n",
       "        vertical-align: top;\n",
       "    }\n",
       "\n",
       "    .dataframe thead th {\n",
       "        text-align: right;\n",
       "    }\n",
       "</style>\n",
       "<table border=\"1\" class=\"dataframe\">\n",
       "  <thead>\n",
       "    <tr style=\"text-align: right;\">\n",
       "      <th></th>\n",
       "      <th>name</th>\n",
       "      <th>reviewBody</th>\n",
       "      <th>reviewRating</th>\n",
       "      <th>datePublished</th>\n",
       "      <th>datePublishedRaw</th>\n",
       "      <th>probability</th>\n",
       "      <th>isVerified</th>\n",
       "    </tr>\n",
       "  </thead>\n",
       "  <tbody>\n",
       "    <tr>\n",
       "      <th>0</th>\n",
       "      <td>Quick option for haldi doodh we moms always lo...</td>\n",
       "      <td>I always give my son haldi doodh at night befo...</td>\n",
       "      <td>5.0</td>\n",
       "      <td>2021-01-24T00:00:00</td>\n",
       "      <td>Reviewed in India on 24 January 2021</td>\n",
       "      <td>0.934556</td>\n",
       "      <td>NaN</td>\n",
       "    </tr>\n",
       "    <tr>\n",
       "      <th>1</th>\n",
       "      <td>Quick option for haldi doodh we moms always lo...</td>\n",
       "      <td>I always give my son haldi doodh at night befo...</td>\n",
       "      <td>5.0</td>\n",
       "      <td>2021-01-24T00:00:00</td>\n",
       "      <td>Reviewed in India on 24 January 2021</td>\n",
       "      <td>0.934556</td>\n",
       "      <td>NaN</td>\n",
       "    </tr>\n",
       "    <tr>\n",
       "      <th>2</th>\n",
       "      <td>Closing lid is of low quality.</td>\n",
       "      <td>I'm getting rating 2 as I'm unhappy with the w...</td>\n",
       "      <td>5.0</td>\n",
       "      <td>2021-03-13T00:00:00</td>\n",
       "      <td>Reviewed in India on 13 March 2021</td>\n",
       "      <td>0.966139</td>\n",
       "      <td>NaN</td>\n",
       "    </tr>\n",
       "    <tr>\n",
       "      <th>3</th>\n",
       "      <td>Closing lid is of low quality.</td>\n",
       "      <td>I'm getting rating 2 as I'm unhappy with the w...</td>\n",
       "      <td>2.0</td>\n",
       "      <td>2021-03-13T00:00:00</td>\n",
       "      <td>Reviewed in India on 13 March 2021</td>\n",
       "      <td>0.966139</td>\n",
       "      <td>NaN</td>\n",
       "    </tr>\n",
       "    <tr>\n",
       "      <th>4</th>\n",
       "      <td>Quick option for haldi doodh we moms always lo...</td>\n",
       "      <td>Your browser does not support HTML5 video. I a...</td>\n",
       "      <td>5.0</td>\n",
       "      <td>2021-01-24T00:00:00</td>\n",
       "      <td>Reviewed in India on 24 January 2021</td>\n",
       "      <td>0.851983</td>\n",
       "      <td>True</td>\n",
       "    </tr>\n",
       "  </tbody>\n",
       "</table>\n",
       "</div>"
      ],
      "text/plain": [
       "                                                name  \\\n",
       "0  Quick option for haldi doodh we moms always lo...   \n",
       "1  Quick option for haldi doodh we moms always lo...   \n",
       "2                     Closing lid is of low quality.   \n",
       "3                     Closing lid is of low quality.   \n",
       "4  Quick option for haldi doodh we moms always lo...   \n",
       "\n",
       "                                          reviewBody  reviewRating  \\\n",
       "0  I always give my son haldi doodh at night befo...           5.0   \n",
       "1  I always give my son haldi doodh at night befo...           5.0   \n",
       "2  I'm getting rating 2 as I'm unhappy with the w...           5.0   \n",
       "3  I'm getting rating 2 as I'm unhappy with the w...           2.0   \n",
       "4  Your browser does not support HTML5 video. I a...           5.0   \n",
       "\n",
       "         datePublished                      datePublishedRaw  probability  \\\n",
       "0  2021-01-24T00:00:00  Reviewed in India on 24 January 2021     0.934556   \n",
       "1  2021-01-24T00:00:00  Reviewed in India on 24 January 2021     0.934556   \n",
       "2  2021-03-13T00:00:00    Reviewed in India on 13 March 2021     0.966139   \n",
       "3  2021-03-13T00:00:00    Reviewed in India on 13 March 2021     0.966139   \n",
       "4  2021-01-24T00:00:00  Reviewed in India on 24 January 2021     0.851983   \n",
       "\n",
       "  isVerified  \n",
       "0        NaN  \n",
       "1        NaN  \n",
       "2        NaN  \n",
       "3        NaN  \n",
       "4       True  "
      ]
     },
     "execution_count": 4,
     "metadata": {},
     "output_type": "execute_result"
    }
   ],
   "source": [
    "## Read the file \n",
    "df = pd.read_csv('turmeric_milk.csv')\n",
    "df.head()"
   ]
  },
  {
   "cell_type": "code",
   "execution_count": 5,
   "metadata": {},
   "outputs": [
    {
     "data": {
      "text/plain": [
       "'Your browser does not support HTML5 video. I always give my son haldi doodh at night before going to sleep. But considering the hectic lifestyle I have, it really becomes difficult to crush almonds, crush fresh haldi powder. So this one came as a promising option to opt for. The best part is that it has crushed almonds readymade and thus I do not need to make any separate preparations. Considering the portion size also, it is also promising as this pack is lasting more than a month.'"
      ]
     },
     "execution_count": 5,
     "metadata": {},
     "output_type": "execute_result"
    }
   ],
   "source": [
    "df.iloc[5,1]"
   ]
  },
  {
   "cell_type": "code",
   "execution_count": 6,
   "metadata": {},
   "outputs": [],
   "source": [
    "df = df.iloc[::-2][::-1] ##removing even index because they are all +ve\n",
    "df_pos = df[df['reviewRating']>=4.0]\n",
    "df_ne = df[df['reviewRating']<3.0]"
   ]
  },
  {
   "cell_type": "code",
   "execution_count": 7,
   "metadata": {},
   "outputs": [
    {
     "name": "stderr",
     "output_type": "stream",
     "text": [
      "<>:5: DeprecationWarning: invalid escape sequence \\w\n",
      "<>:5: DeprecationWarning: invalid escape sequence \\w\n",
      "C:\\Users\\saika\\AppData\\Local\\Temp/ipykernel_16220/4248882519.py:5: DeprecationWarning: invalid escape sequence \\w\n",
      "  content_df['reviewBody'] = content_df['reviewBody'].apply(lambda x: re.sub(re.compile(\"[^\\w\\s]\"), \"\", x))\n"
     ]
    }
   ],
   "source": [
    "def word_transform(df):\n",
    "#     df = df.iloc[::2].reset_index(drop=True)\n",
    "    content_df = df[['reviewBody','reviewRating']]\n",
    "    #removing special charecters\n",
    "    content_df['reviewBody'] = content_df['reviewBody'].apply(lambda x: re.sub(re.compile(\"[^\\w\\s]\"), \"\", x))\n",
    "    #removing space from front and back of the string\n",
    "    content_df['reviewBody']= content_df['reviewBody'].apply(lambda x : x.strip())\n",
    "    # Converting data into lower\n",
    "    content_df['reviewBody']= content_df['reviewBody'].apply(lambda x : x.lower())\n",
    "    return content_df \n",
    "\n",
    "content_df = word_transform(df_pos)"
   ]
  },
  {
   "cell_type": "code",
   "execution_count": 8,
   "metadata": {},
   "outputs": [
    {
     "data": {
      "text/html": [
       "<div>\n",
       "<style scoped>\n",
       "    .dataframe tbody tr th:only-of-type {\n",
       "        vertical-align: middle;\n",
       "    }\n",
       "\n",
       "    .dataframe tbody tr th {\n",
       "        vertical-align: top;\n",
       "    }\n",
       "\n",
       "    .dataframe thead th {\n",
       "        text-align: right;\n",
       "    }\n",
       "</style>\n",
       "<table border=\"1\" class=\"dataframe\">\n",
       "  <thead>\n",
       "    <tr style=\"text-align: right;\">\n",
       "      <th></th>\n",
       "      <th>reviewBody</th>\n",
       "      <th>reviewRating</th>\n",
       "    </tr>\n",
       "  </thead>\n",
       "  <tbody>\n",
       "    <tr>\n",
       "      <th>1</th>\n",
       "      <td>i always give my son haldi doodh at night befo...</td>\n",
       "      <td>5.0</td>\n",
       "    </tr>\n",
       "    <tr>\n",
       "      <th>5</th>\n",
       "      <td>your browser does not support html5 video i al...</td>\n",
       "      <td>5.0</td>\n",
       "    </tr>\n",
       "    <tr>\n",
       "      <th>7</th>\n",
       "      <td>loved this aryuvedic immunity booster haldi do...</td>\n",
       "      <td>5.0</td>\n",
       "    </tr>\n",
       "    <tr>\n",
       "      <th>9</th>\n",
       "      <td>almond flacks kaali mirch haldi etc are the ac...</td>\n",
       "      <td>5.0</td>\n",
       "    </tr>\n",
       "    <tr>\n",
       "      <th>11</th>\n",
       "      <td>this is s superb product from suffola  it is a...</td>\n",
       "      <td>5.0</td>\n",
       "    </tr>\n",
       "  </tbody>\n",
       "</table>\n",
       "</div>"
      ],
      "text/plain": [
       "                                           reviewBody  reviewRating\n",
       "1   i always give my son haldi doodh at night befo...           5.0\n",
       "5   your browser does not support html5 video i al...           5.0\n",
       "7   loved this aryuvedic immunity booster haldi do...           5.0\n",
       "9   almond flacks kaali mirch haldi etc are the ac...           5.0\n",
       "11  this is s superb product from suffola  it is a...           5.0"
      ]
     },
     "execution_count": 8,
     "metadata": {},
     "output_type": "execute_result"
    }
   ],
   "source": [
    "content_df.head()"
   ]
  },
  {
   "cell_type": "code",
   "execution_count": 9,
   "metadata": {},
   "outputs": [
    {
     "name": "stdout",
     "output_type": "stream",
     "text": [
      "['your', 'browser', 'does', 'not', 'support', 'html', 'video', 'always', 'give', 'my', 'son', 'haldi', 'doodh', 'at', 'night', 'before', 'going', 'to', 'sleep', 'but', 'considering', 'the', 'hectic', 'lifestyle', 'have', 'it', 'really', 'becomes', 'difficult', 'to', 'crush', 'almonds', 'crush', 'fresh', 'haldi', 'powder', 'so', 'this', 'one', 'came', 'as', 'promising', 'option', 'to', 'opt', 'for', 'the', 'best', 'part', 'is', 'that', 'it', 'has', 'crushed', 'almonds', 'readymade', 'and', 'thus', 'do', 'not', 'need', 'to', 'make', 'any', 'separate', 'preparations', 'considering', 'the', 'portion', 'size', 'also', 'it', 'is', 'also', 'promising', 'as', 'this', 'pack', 'is', 'lasting', 'more', 'than', 'month']\n"
     ]
    }
   ],
   "source": [
    "# tokenize using gensims simple_preprocess\n",
    "def sent_to_words(sentences, deacc=True):  # deacc=True removes punctuations\n",
    "    for sentence in sentences:\n",
    "        yield(simple_preprocess(str(sentence)))\n",
    "\n",
    "# conver to list\n",
    "data=content_df['reviewBody'].values.tolist()\n",
    "data_words=list(sent_to_words(data))\n",
    "\n",
    "#print review\n",
    "print(data_words[1])"
   ]
  },
  {
   "cell_type": "code",
   "execution_count": 10,
   "metadata": {},
   "outputs": [],
   "source": [
    "# create a list of stop words\n",
    "# string.punctuation (from the 'string' module) contains a list of punctuations\n",
    "\n",
    "\n",
    "from nltk.corpus import stopwords\n",
    "stop_words= stopwords.words('english') + list(string.punctuation)"
   ]
  },
  {
   "cell_type": "code",
   "execution_count": 11,
   "metadata": {},
   "outputs": [],
   "source": [
    "# functions for removing stopwords and lemmatization\n",
    "def remove_stopwords(texts):\n",
    "    return [[word for word in simple_preprocess(str(doc)) if word not in stop_words] for doc in texts]\n",
    "\n",
    "def lemmatization(texts,allowed_postags=['NOUN','ADJ','VERB','ADV']):\n",
    "    \"\"\"https://spacy.io/api/annotation\"\"\"\n",
    "    texts_out=[]\n",
    "    for sent in texts:\n",
    "        doc=nlp(' '.join(sent))\n",
    "        texts_out.append([token.lemma_ for token in doc if token.pos_ in allowed_postags])\n",
    "    return texts_out"
   ]
  },
  {
   "cell_type": "code",
   "execution_count": 12,
   "metadata": {},
   "outputs": [
    {
     "name": "stdout",
     "output_type": "stream",
     "text": [
      "['always', 'give', 'night', 'go', 'sleep', 'consider', 'hectic', 'lifestyle', 'really', 'become', 'difficult', 'crush', 'almond', 'crush', 'fresh', 'powder', 'one', 'come', 'promise', 'option', 'opt', 'good', 'part', 'crush', 'almond', 'readymade', 'thus', 'need', 'make', 'separate', 'preparation', 'consider', 'portion', 'size', 'also', 'also', 'promise', 'pack', 'last', 'month']\n"
     ]
    }
   ],
   "source": [
    "# call functions\n",
    "\n",
    "# remove stop words\n",
    "data_words_npstops= remove_stopwords(data_words)\n",
    "\n",
    "# initialize spacy 'en' model use only tagger since we don;t need parsing or NER\n",
    "# python -m spacy download en\n",
    "# spacy.cli.download(\"en\")\n",
    "nlp=spacy.load('en_core_web_sm',disable=['parser', 'ner'])\n",
    "\n",
    "# lemmatization keeping only noun, adj, vb, adv\n",
    "data_lemmatized=lemmatization(data_words_npstops, allowed_postags=['NOUN', 'ADJ', 'VERB', 'ADV'])\n",
    "\n",
    "print(data_lemmatized[1])"
   ]
  },
  {
   "cell_type": "code",
   "execution_count": 13,
   "metadata": {},
   "outputs": [
    {
     "name": "stdout",
     "output_type": "stream",
     "text": [
      "almond flacks kaali mirch haldi etc are the active ingredients and the base ingredient is milk powder it gives very good taste to the milkyou will get best flavour after leaving it for sometime in the warm milk \n",
      "\n",
      "almond flack active ingredient base ingredient milk powder give good taste get good flavour leave sometime warm milk\n"
     ]
    }
   ],
   "source": [
    "# compare the nostop, lemmatised version with the original one\n",
    "# note that speakers is lemmatised to speaker; \n",
    "\n",
    "\n",
    "print(' '.join(data_words[3]), '\\n')\n",
    "print(' '.join(data_lemmatized[3]))"
   ]
  },
  {
   "cell_type": "code",
   "execution_count": 14,
   "metadata": {},
   "outputs": [
    {
     "name": "stdout",
     "output_type": "stream",
     "text": [
      "[(0, 1), (9, 1), (15, 1), (34, 1), (35, 2), (36, 1), (37, 1), (38, 1), (39, 1), (40, 1), (41, 1), (42, 1), (43, 2), (44, 1), (45, 1), (46, 1), (47, 1), (48, 1), (49, 3), (50, 1), (51, 1), (52, 1), (53, 1), (54, 1), (55, 1), (56, 1), (57, 1), (58, 1), (59, 1), (60, 2), (61, 1), (62, 1), (63, 1), (64, 1), (65, 1), (66, 1), (67, 1), (68, 1), (69, 1)]\n"
     ]
    }
   ],
   "source": [
    "# create dictionary and corpus\n",
    "# create dictionary\n",
    "id2word=corpora.Dictionary(data_lemmatized)\n",
    "\n",
    "#create corpus\n",
    "corpus=[id2word.doc2bow(text) for text in data_lemmatized]\n",
    "\n",
    "# sample\n",
    "\n",
    "\n",
    "print(corpus[2])"
   ]
  },
  {
   "cell_type": "code",
   "execution_count": 15,
   "metadata": {},
   "outputs": [
    {
     "data": {
      "text/plain": [
       "[[('almond', 2),\n",
       "  ('also', 2),\n",
       "  ('always', 1),\n",
       "  ('become', 1),\n",
       "  ('come', 1),\n",
       "  ('consider', 2),\n",
       "  ('crush', 3),\n",
       "  ('difficult', 1),\n",
       "  ('fresh', 1),\n",
       "  ('give', 1),\n",
       "  ('go', 1),\n",
       "  ('good', 1),\n",
       "  ('hectic', 1),\n",
       "  ('last', 1),\n",
       "  ('lifestyle', 1),\n",
       "  ('make', 1),\n",
       "  ('month', 1),\n",
       "  ('need', 1),\n",
       "  ('night', 1),\n",
       "  ('one', 1),\n",
       "  ('opt', 1),\n",
       "  ('option', 1),\n",
       "  ('pack', 1),\n",
       "  ('part', 1),\n",
       "  ('portion', 1),\n",
       "  ('powder', 1),\n",
       "  ('preparation', 1),\n",
       "  ('promise', 2),\n",
       "  ('readymade', 1),\n",
       "  ('really', 1),\n",
       "  ('separate', 1),\n",
       "  ('size', 1),\n",
       "  ('sleep', 1),\n",
       "  ('thus', 1)]]"
      ]
     },
     "execution_count": 15,
     "metadata": {},
     "output_type": "execute_result"
    }
   ],
   "source": [
    "# human-readable format of corpus (term-frequency)\n",
    "[[(id2word[id], freq) for id, freq in cp] for cp in corpus[:1]]"
   ]
  },
  {
   "cell_type": "code",
   "execution_count": 16,
   "metadata": {},
   "outputs": [],
   "source": [
    "# Build LDA model\n",
    "lda_model= gensim.models.ldamodel.LdaModel(corpus=corpus,id2word=id2word,num_topics=10,random_state=100,\\\n",
    "                                          update_every=1,chunksize=100,passes=10,alpha='auto',per_word_topics=True)\n",
    "\n",
    "\n",
    "# LDA Model building\n",
    "lda_model= gensim.models.ldamodel.LdaModel(corpus=corpus,id2word=id2word,num_topics=10,random_state=100,\\\n",
    "                                          update_every=1,chunksize=100,passes=10,alpha='auto',per_word_topics=True)"
   ]
  },
  {
   "cell_type": "code",
   "execution_count": 17,
   "metadata": {},
   "outputs": [
    {
     "data": {
      "text/plain": [
       "[(0,\n",
       "  '0.040*\"product\" + 0.040*\"taste\" + 0.040*\"life\" + 0.021*\"time\" + 0.021*\"everyday\" + 0.021*\"tough\" + 0.021*\"great\" + 0.021*\"add\" + 0.021*\"amazing\" + 0.021*\"do\"'),\n",
       " (1,\n",
       "  '0.034*\"taste\" + 0.023*\"follow\" + 0.023*\"milk\" + 0.023*\"product\" + 0.023*\"recommend\" + 0.023*\"turmeric\" + 0.023*\"time\" + 0.023*\"powder\" + 0.012*\"ingredient\" + 0.012*\"week\"'),\n",
       " (2,\n",
       "  '0.034*\"ingredient\" + 0.028*\"good\" + 0.028*\"product\" + 0.017*\"get\" + 0.017*\"taste\" + 0.017*\"amazing\" + 0.017*\"herb\" + 0.017*\"goodness\" + 0.017*\"milk\" + 0.017*\"recommend\"'),\n",
       " (3,\n",
       "  '0.034*\"drink\" + 0.025*\"health\" + 0.024*\"product\" + 0.023*\"bring\" + 0.023*\"use\" + 0.023*\"amazing\" + 0.023*\"aryuvedic\" + 0.023*\"power\" + 0.013*\"good\" + 0.012*\"saffron\"'),\n",
       " (4,\n",
       "  '0.041*\"day\" + 0.038*\"immunity\" + 0.037*\"love\" + 0.033*\"black\" + 0.028*\"pepper\" + 0.028*\"part\" + 0.028*\"daily\" + 0.028*\"latte\" + 0.028*\"highly\" + 0.028*\"recommend\"'),\n",
       " (5,\n",
       "  '0.033*\"really\" + 0.033*\"crush\" + 0.029*\"good\" + 0.026*\"also\" + 0.022*\"promise\" + 0.022*\"almond\" + 0.022*\"consider\" + 0.022*\"taste\" + 0.022*\"give\" + 0.018*\"come\"'),\n",
       " (6,\n",
       "  '0.024*\"product\" + 0.024*\"health\" + 0.024*\"immunity\" + 0.024*\"effective\" + 0.024*\"well\" + 0.024*\"awesome\" + 0.024*\"flavor\" + 0.024*\"aroma\" + 0.002*\"turmeric\" + 0.002*\"drink\"'),\n",
       " (7,\n",
       "  '0.033*\"product\" + 0.033*\"milk\" + 0.026*\"also\" + 0.026*\"flavor\" + 0.026*\"taste\" + 0.020*\"use\" + 0.020*\"love\" + 0.020*\"turmeric\" + 0.020*\"good\" + 0.020*\"order\"'),\n",
       " (8,\n",
       "  '0.039*\"turmeric\" + 0.034*\"milk\" + 0.025*\"help\" + 0.025*\"taste\" + 0.025*\"product\" + 0.025*\"good\" + 0.022*\"love\" + 0.021*\"golden\" + 0.021*\"drink\" + 0.018*\"property\"'),\n",
       " (9,\n",
       "  '0.067*\"taste\" + 0.026*\"product\" + 0.026*\"turmeric\" + 0.026*\"drink\" + 0.017*\"awesome\" + 0.017*\"good\" + 0.017*\"little\" + 0.017*\"make\" + 0.017*\"amazing\" + 0.017*\"stuff\"')]"
      ]
     },
     "execution_count": 17,
     "metadata": {},
     "output_type": "execute_result"
    }
   ],
   "source": [
    "# print topics\n",
    "lda_model.print_topics()"
   ]
  },
  {
   "cell_type": "code",
   "execution_count": 18,
   "metadata": {},
   "outputs": [
    {
     "name": "stdout",
     "output_type": "stream",
     "text": [
      "\n",
      "Coherence Score: 0.45794528720569405\n"
     ]
    }
   ],
   "source": [
    "# coherence score\n",
    "coherence_model_lda=CoherenceModel(model=lda_model,texts=data_lemmatized,dictionary=id2word,coherence='c_v')\n",
    "coherence_lda=coherence_model_lda.get_coherence()\n",
    "print('\\nCoherence Score:',coherence_lda)"
   ]
  },
  {
   "cell_type": "code",
   "execution_count": 19,
   "metadata": {},
   "outputs": [
    {
     "data": {
      "text/html": [
       "\n",
       "<link rel=\"stylesheet\" type=\"text/css\" href=\"https://cdn.jsdelivr.net/gh/bmabey/pyLDAvis@3.3.1/pyLDAvis/js/ldavis.v1.0.0.css\">\n",
       "\n",
       "\n",
       "<div id=\"ldavis_el1622014913298852324039553090\"></div>\n",
       "<script type=\"text/javascript\">\n",
       "\n",
       "var ldavis_el1622014913298852324039553090_data = {\"mdsDat\": {\"x\": [-0.1730821949964718, 0.20640604669151233, -0.010956015820241334, -0.1116408431073214, 0.008612135018225782, 0.043363282881573706, -0.00962331883932182, 0.022467701380250556, 0.017946446935124368, 0.006506759856669706], \"y\": [0.05379347514538678, -0.07547238386869042, 0.07514094284963159, -0.20096978926759013, 0.021252999977443853, 0.02603266617656568, 0.008969935672509713, 0.07612822636929076, 0.021071271269624024, -0.005947344324171594], \"topics\": [1, 2, 3, 4, 5, 6, 7, 8, 9, 10], \"cluster\": [1, 1, 1, 1, 1, 1, 1, 1, 1, 1], \"Freq\": [34.78883855314225, 20.482067994578713, 10.169758520827827, 9.159435787272106, 7.10584076979075, 7.104227470931165, 4.615925490805325, 4.514669834096356, 1.2972773865422358, 0.7619581920132755]}, \"tinfo\": {\"Term\": [\"taste\", \"product\", \"immunity\", \"health\", \"drink\", \"love\", \"time\", \"day\", \"flavor\", \"crush\", \"add\", \"great\", \"amazing\", \"recommend\", \"also\", \"black\", \"awesome\", \"everyday\", \"ingredient\", \"really\", \"turmeric\", \"latte\", \"pepper\", \"part\", \"use\", \"good\", \"power\", \"well\", \"almond\", \"spice\", \"golden\", \"property\", \"free\", \"infection\", \"system\", \"immune\", \"preservative\", \"gluten\", \"ginger\", \"artificial\", \"aromatic\", \"stand\", \"response\", \"elixir\", \"body\", \"fight\", \"balance\", \"legendary\", \"buying\", \"build\", \"promote\", \"bacterial\", \"incline\", \"heal\", \"innovative\", \"worth\", \"wellness\", \"tonic\", \"antimicrobial\", \"strengthen\", \"help\", \"water\", \"morning\", \"rich\", \"support\", \"caffeine\", \"turmeric\", \"milk\", \"drink\", \"try\", \"health\", \"love\", \"product\", \"good\", \"taste\", \"immunity\", \"authentic\", \"flavour\", \"make\", \"latte\", \"hot\", \"recommend\", \"crush\", \"promise\", \"consider\", \"come\", \"become\", \"sleep\", \"difficult\", \"size\", \"night\", \"separate\", \"month\", \"preparation\", \"one\", \"thus\", \"lifestyle\", \"readymade\", \"opt\", \"hectic\", \"portion\", \"fresh\", \"option\", \"hour\", \"almond\", \"last\", \"pack\", \"always\", \"give\", \"really\", \"tumeric\", \"color\", \"need\", \"go\", \"also\", \"good\", \"taste\", \"make\", \"milk\", \"part\", \"flavor\", \"itand\", \"building\", \"say\", \"soreness\", \"etcbut\", \"even\", \"dailyno\", \"chocolate\", \"sugar\", \"suggestionit\", \"extremely\", \"exercise\", \"joint\", \"vanilla\", \"brand\", \"productwe\", \"yogue\", \"realise\", \"extra\", \"manage\", \"grown\", \"fragrant\", \"kid\", \"coffee\", \"hear\", \"antiseptic\", \"believe\", \"simply\", \"ve\", \"quality\", \"well\", \"use\", \"order\", \"also\", \"product\", \"milk\", \"nice\", \"add\", \"take\", \"need\", \"taste\", \"hot\", \"love\", \"good\", \"turmeric\", \"flavour\", \"regularly\", \"give\", \"immunity\", \"consume\", \"help\", \"trust\", \"try\", \"twice\", \"daily\", \"planning\", \"reorder\", \"routine\", \"mandatory\", \"keep\", \"day\", \"strong\", \"blood\", \"subtle\", \"cinnamon\", \"infuse\", \"cleansing\", \"result\", \"trigger\", \"right\", \"combination\", \"husband\", \"strand\", \"bland\", \"sweet\", \"highly\", \"aroma\", \"happy\", \"part\", \"pandemic\", \"pepper\", \"black\", \"spice\", \"cardamom\", \"latte\", \"immunity\", \"love\", \"recommend\", \"make\", \"great\", \"health\", \"turmeric\", \"milk\", \"natural\", \"boost\", \"taste\", \"stuff\", \"real\", \"gud\", \"pure\", \"totally\", \"frankly\", \"benifit\", \"tear\", \"immediately\", \"float\", \"nd\", \"speak\", \"benifitial\", \"worried\", \"top\", \"effect\", \"sachet\", \"bit\", \"know\", \"powdered\", \"tasty\", \"dry\", \"fruit\", \"little\", \"glass\", \"first\", \"ayurvedic\", \"contain\", \"many\", \"awesome\", \"healthy\", \"taste\", \"amazing\", \"drink\", \"product\", \"turmeric\", \"really\", \"make\", \"good\", \"packaging\", \"milk\", \"order\", \"guy\", \"delicious\", \"authentic\", \"colour\", \"much\", \"nature\", \"quantity\", \"nice\", \"happy\", \"lot\", \"nutrient\", \"satisfied\", \"notice\", \"look\", \"active\", \"energy\", \"prevent\", \"increas\", \"sometime\", \"flack\", \"furnish\", \"fully\", \"useful\", \"superb\", \"cough\", \"suffola\", \"base\", \"general\", \"leave\", \"teaste\", \"awasome\", \"covid\", \"situation\", \"goodness\", \"ingredient\", \"feel\", \"ayurvedic\", \"first\", \"many\", \"buy\", \"get\", \"healthy\", \"herb\", \"amazing\", \"product\", \"good\", \"recommend\", \"milk\", \"taste\", \"powder\", \"almond\", \"give\", \"turmeric\", \"pack\", \"highly\", \"make\", \"really\", \"drink\", \"warm\", \"great\", \"thing\", \"colour\", \"follow\", \"reason\", \"advice\", \"excellent\", \"advise\", \"essential\", \"clean\", \"stomach\", \"mixed\", \"bad\", \"spicery\", \"corona\", \"honey\", \"feel\", \"twice\", \"week\", \"spoon\", \"luke\", \"especially\", \"powder\", \"quality\", \"packaging\", \"time\", \"well\", \"warm\", \"get\", \"healthy\", \"boost\", \"nice\", \"use\", \"recommend\", \"taste\", \"product\", \"turmeric\", \"milk\", \"ingredient\", \"great\", \"take\", \"immunity\", \"try\", \"bring\", \"aryuvedic\", \"organic\", \"classy\", \"teacoffee\", \"avoid\", \"absolutely\", \"cooking\", \"infusion\", \"productgood\", \"detoxification\", \"dessert\", \"issue\", \"multi\", \"cover\", \"type\", \"protective\", \"super\", \"ayurveda\", \"enrich\", \"variation\", \"smoothie\", \"glass\", \"different\", \"form\", \"power\", \"goodness\", \"use\", \"saffron\", \"amazing\", \"drink\", \"health\", \"product\", \"good\", \"test\", \"great\", \"also\", \"almond\", \"life\", \"tough\", \"savor\", \"do\", \"everyday\", \"add\", \"time\", \"amazing\", \"great\", \"effective\", \"product\", \"detoxification\", \"productgood\", \"cooking\", \"infusion\", \"absolutely\", \"avoid\", \"teacoffee\", \"organic\", \"classy\", \"dessert\", \"issue\", \"multi\", \"cover\", \"type\", \"advice\", \"excellent\", \"reason\", \"advise\", \"essential\", \"taste\", \"day\", \"routine\", \"keep\", \"reorder\", \"happy\", \"mandatory\", \"daily\", \"highly\", \"spice\", \"pandemic\", \"immunity\", \"recommend\", \"pepper\", \"strong\", \"love\", \"latte\", \"black\", \"part\", \"planning\", \"effective\", \"aroma\", \"well\", \"flavor\", \"awesome\", \"savor\", \"tough\", \"health\", \"immunity\", \"life\", \"type\", \"multi\", \"cover\", \"dessert\", \"enrich\", \"issue\", \"variation\", \"protective\", \"ayurveda\", \"super\", \"smoothie\", \"detoxification\", \"productgood\", \"cooking\", \"infusion\", \"avoid\", \"absolutely\", \"organic\", \"classy\", \"teacoffee\", \"product\", \"mind\", \"enhance\", \"elegant\", \"power\", \"strengthen\", \"turmeric\", \"infection\", \"drink\", \"property\", \"golden\", \"help\", \"antimicrobial\", \"rich\", \"tonic\", \"blend\", \"support\", \"milk\", \"black\", \"love\", \"latte\", \"caffeine\", \"hot\", \"flavour\", \"free\", \"spice\", \"recommend\"], \"Freq\": [28.0, 23.0, 12.0, 10.0, 13.0, 16.0, 5.0, 6.0, 3.0, 8.0, 5.0, 7.0, 5.0, 11.0, 12.0, 7.0, 3.0, 3.0, 5.0, 12.0, 24.0, 8.0, 6.0, 6.0, 5.0, 23.0, 4.0, 2.0, 6.0, 7.0, 8.303425010659161, 7.368824210009126, 6.504962157891008, 5.594038360914228, 3.7605844659866667, 3.7603835121377855, 3.7484239515113753, 3.746851122783543, 3.7457621549991047, 4.4634555416184325, 2.843797269789795, 2.8436735914898787, 2.843553094023697, 2.8434773153376662, 2.8433278161521396, 2.8432946980597262, 2.8431785040744795, 2.843117319802055, 2.8431504378944683, 2.8430668006780344, 2.843028817781086, 2.8429274053173117, 2.8429111269329055, 2.842911875364372, 2.8428080304983303, 2.8428130824107325, 2.8427646214732465, 2.8425273686982178, 2.842482275702333, 2.842003092455607, 10.175815678439983, 5.596690053601694, 4.670537921566523, 6.643428715163233, 3.5191382294484885, 3.4856878334638344, 15.749053257808512, 13.76094385876248, 8.251461413907595, 5.5862030318865425, 6.555222324623756, 9.00675824272178, 9.855786383164599, 9.852316654883737, 10.138249657818474, 5.790250896451813, 3.748430687394578, 4.88032999764077, 5.663797038440152, 4.29710766690726, 3.7620046146952375, 3.7605848402024, 7.737557593294426, 5.187024623285158, 5.185541862877972, 4.332784540925264, 3.4846894318962494, 2.6361160059513358, 2.6360446219436198, 2.635823639969116, 2.6358090987823592, 2.6357203094147375, 2.635683075163799, 2.6357227329458635, 2.635682193879753, 2.6356645681988358, 2.6356652291618703, 2.635673601360306, 2.6355696098428925, 2.635410097430589, 2.635383879230224, 2.6353565594248023, 2.6351767774794435, 1.784010063069035, 5.18631695219632, 2.6355872355238104, 2.6357509340353316, 2.6357771522356965, 5.183577921381739, 7.739709688934455, 0.9356311805772485, 0.9356310704167428, 3.4863993432662594, 3.486347127186541, 6.0372447284697905, 6.886102368519499, 5.185203009162333, 3.4862006137139145, 3.1472799204872284, 2.6727258671430802, 3.0755267130334194, 0.8261346797663242, 0.8261346797663242, 0.8261346797663242, 0.8261346797663242, 0.8261346797663242, 0.8261345703725127, 0.8261345703725127, 0.8261345703725127, 0.8261345703725127, 0.8261345703725127, 0.826134515675607, 0.826134515675607, 0.8261344062817956, 0.8261344062817956, 0.8261342968879841, 0.8261342968879841, 0.826134132797267, 0.8261205132677452, 0.8261166844843454, 0.8254586260117446, 0.82540436668128, 0.8253304164647597, 0.825317507995012, 0.8252974342306163, 0.8251540189438439, 0.8251240997364203, 0.8250709343440699, 0.8249917879215071, 0.8248779089638182, 1.5737980061800994, 1.5747731426151028, 2.3282175490841186, 2.3238356705738537, 3.07926141775532, 3.8297438773863104, 3.8291163944840014, 1.5763863731521228, 1.575183041226496, 1.5761917615616057, 1.5771815567673395, 3.0715533110149993, 1.574569013762992, 2.3273351786011998, 2.3254555741333705, 2.3259852589682692, 1.5790626927485287, 0.8278261815754157, 0.8277989972132775, 0.8276995035417906, 0.8275354128246596, 0.826248175845673, 0.8262454410003875, 0.8261972530264567, 0.8261346797663242, 2.952826279150229, 2.2289674097968537, 2.2283029504772514, 2.2282211739002538, 2.2281989070250714, 2.2275693259081883, 4.3829612655945835, 2.2286164601977396, 0.7982386071723031, 0.7979753949729677, 0.7978975101728275, 0.7978353895321084, 0.7972881268852028, 0.7972827572183999, 0.7962851322420307, 0.7950862186550524, 0.7950859723400614, 0.7942821972615745, 0.792080289031424, 0.7902922885120758, 0.7901812989771511, 2.9461058209369906, 0.7974174915184528, 2.2247688229870173, 2.9529701271049476, 2.228072596697709, 2.954170370792877, 3.518554865349827, 2.75357774782223, 0.7970888087945214, 2.95105084069542, 4.052650498098923, 3.8907249935644974, 2.9282734037997606, 2.2012685993818977, 1.2811631872842955, 1.3073535646946381, 1.229317428623966, 1.14967728933219, 0.8503265427317401, 0.8398982556966456, 0.8432083350711062, 1.4303309831166002, 1.429987785766732, 0.7497691860450726, 0.7497691096091372, 0.7497684216857188, 0.749266925513673, 0.7492563009186548, 0.7492135732307759, 0.7490759121111517, 0.7490446498135801, 0.7490060496662119, 0.74899167971036, 0.7489698954687759, 0.7489329004760507, 0.7489244160872232, 0.7489119570297558, 0.7488161828027213, 0.748719644216333, 0.747741952166853, 0.7476503054803292, 0.7474410238892514, 0.7471682240358706, 0.7471568350814985, 1.4309352856217359, 0.7487734551148424, 0.7491050342025325, 0.7488280303727056, 0.7477327034186717, 0.7474989623282715, 1.431515587243161, 1.4289522317141674, 5.524375432434476, 1.4304730010845415, 2.109821071938127, 2.113435421578633, 2.110070253087475, 1.4288259595489152, 1.4306168535149315, 1.4310826541051536, 0.7511908944431905, 0.7510322134413361, 0.7509477517327382, 0.7505190990071121, 0.750272593115503, 0.750204488697077, 0.7497694917888141, 0.7497694153528788, 0.7497693389169434, 0.7497691096091372, 0.7497688038653957, 0.7497683452497834, 0.7458756170879989, 0.7458755406694174, 0.7458755406694174, 0.7458755406694174, 0.7458753114136729, 0.7458753114136729, 0.7458753114136729, 0.7458753114136729, 0.7458753114136729, 0.7458752349950915, 0.7458752349950915, 0.7458752349950915, 0.7458752349950915, 0.7458752349950915, 0.7458752349950915, 0.7458752349950915, 0.74587515857651, 0.74587515857651, 0.7458750821579285, 0.7458750821579285, 0.7442070173611931, 0.7441667447687486, 0.7440537216867268, 0.7430431623651201, 1.4239604633745335, 2.778308489802075, 0.7445366871217354, 0.7458753114136729, 0.7458755406694174, 0.7458750821579285, 1.4222005434428486, 1.4243729708774093, 1.4217776430128901, 1.4239604633745335, 1.4239606162116965, 2.302124286877624, 2.3050693061710357, 1.422886476630291, 1.4239590878400665, 1.4243323161920574, 0.7475622516000361, 0.7474439556358915, 0.7466166480726948, 0.7465460373033993, 0.7464472280775344, 0.7464097065540234, 0.7463530039665588, 0.746320984580915, 0.7462944673331384, 0.7462811704999595, 0.7458756935065803, 0.7458756935065803, 0.7458755406694174, 1.2251997509265, 0.6417656400865888, 0.6417655904341136, 0.6417655904341136, 0.6414368910483368, 0.6414254213265673, 0.6414174272780613, 0.6414125116830172, 0.6414089367048033, 0.6414074471305474, 0.6413920052107625, 0.6413574470880282, 0.6413469704157625, 0.641342203778144, 0.6417652428667873, 0.641765689739064, 0.6414470201532761, 0.6414188671998419, 0.6413062553861044, 1.2245090849965674, 0.6417654911291633, 0.6417654911291633, 1.2245315279153546, 0.6417653421717376, 0.6414166328384582, 0.6414107241939102, 0.6414404163740756, 0.6417651435618369, 0.6417652428667873, 0.6412368412257847, 1.2247163344280223, 1.808311964769736, 1.2248796910714068, 1.224622292640007, 1.2251986585720458, 0.6417657890440144, 0.6417653421717376, 0.6417651435618369, 0.6417647463420353, 0.6414562058611869, 1.2214134816165512, 1.1975997920845396, 0.6397825057153984, 0.6397825057153984, 0.6397825057153984, 0.639782360025526, 0.639782360025526, 0.6397823114622352, 0.6397823114622352, 0.6397807574369294, 0.639780611747057, 0.6335519811950656, 0.6333456357724377, 0.632974126597784, 0.6319533747883662, 0.6317589759352762, 0.6309971635924274, 0.630178192256302, 0.6297560801326301, 0.6252185204930296, 0.6250180997918798, 0.6211985484068225, 0.6327299018083287, 0.6330300229454998, 0.6312871350018205, 1.1774638976917275, 0.6259519233107578, 1.2191690805687347, 0.6400459130047215, 1.2189270411273656, 1.7869500001856342, 1.3079898825512681, 1.2471593102365068, 0.6661976336092202, 0.6397820200824904, 0.6397818258293272, 0.6397815830128731, 0.6350640478175515, 0.6001722642199914, 0.3143743903343153, 0.31437433451622776, 0.31437433451622776, 0.31438340495544914, 0.31437436242527156, 0.3143856934970373, 0.31437436242527156, 0.31437436242527156, 0.028579773085182687, 0.6001936983655977, 0.028579787039704565, 0.02857978529538933, 0.028579776573813158, 0.028579773085182687, 0.028579773085182687, 0.028579771340867453, 0.028579771340867453, 0.028579769596552215, 0.028579769596552215, 0.028579764363606514, 0.028579764363606514, 0.028579764363606514, 0.028579764363606514, 0.028579764363606514, 0.028579769596552215, 0.028579769596552215, 0.028579769596552215, 0.028579764363606514, 0.028579764363606514, 0.6001837069279322, 0.02939403862429342, 0.029017177573481823, 0.028989256319517057, 0.0289718864284081, 0.029016600205139076, 0.028889795464824057, 0.028945583898981303, 0.02902536538919436, 0.028983922203528786, 0.028961699627436385, 0.028924409656345067, 0.028922241472508107, 0.02891183139918633, 0.02889791001929673, 0.028863093487208478, 0.028846599242347427, 0.028836567685431618, 0.0288299410318543, 0.02878087169998182, 0.20759642979409584, 0.20759575770459943, 0.20759634783196215, 0.20759580688187965, 0.20759634783196215, 0.018872584515468943, 0.018872584515468943, 0.20838221716239333, 0.20812470853070555, 0.018872586564522283, 0.01899779191997656, 0.018982380989785875, 0.018983903436419525, 0.018973027061276303, 0.01899816074957825, 0.01896710324806247, 0.01897714156038851, 0.018954079465016066, 0.01895469827912557, 0.01894143680589141, 0.018972223832365954, 0.018872596809788998, 0.018872596809788998, 0.018872588613575627, 0.018872588613575627, 0.018872586564522283, 0.018872586564522283, 0.018872584515468943, 0.018872584515468943, 0.018872584515468943, 0.20892470813298822, 0.019726822559733716, 0.019654136490506995, 0.019652552572273062, 0.019705975491024763, 0.01951181539248088, 0.02055515442258633, 0.01981376594211916, 0.02013719876700264, 0.019894662568090207, 0.01990326039591631, 0.01996401892563499, 0.019413993585898872, 0.019772450879569664, 0.019401670579095684, 0.01947103923096052, 0.019481919704210426, 0.01993856968311826, 0.019611499788551433, 0.019745817284220837, 0.01958375765534419, 0.019455554534849498, 0.01952529406536937, 0.01955340093007162, 0.01954173566939145, 0.019540516482652523, 0.01949635528500997], \"Total\": [28.0, 23.0, 12.0, 10.0, 13.0, 16.0, 5.0, 6.0, 3.0, 8.0, 5.0, 7.0, 5.0, 11.0, 12.0, 7.0, 3.0, 3.0, 5.0, 12.0, 24.0, 8.0, 6.0, 6.0, 5.0, 23.0, 4.0, 2.0, 6.0, 7.0, 8.87668961484449, 7.957670453629855, 7.0454242636591875, 6.128092936272962, 4.2941328066498645, 4.293971941370744, 4.291763407326995, 4.29171972049531, 4.291454761705672, 5.194140518745736, 3.3771211220977873, 3.3770152472812027, 3.376912148712564, 3.3768507620738872, 3.376739126262777, 3.3767036449131087, 3.3766197083350935, 3.3765809662177633, 3.376632869115416, 3.376543088243421, 3.376506206117278, 3.376425845714566, 3.37641325000082, 3.3764143782799807, 3.3763374758326954, 3.3763498170953565, 3.376303715085115, 3.376141801957834, 3.3761035655285827, 3.375707000080277, 12.144559514649181, 6.71362097428161, 5.794045873770039, 8.583837846191015, 4.27574804540004, 4.273482235208816, 24.714975133609414, 25.40757729501745, 13.921868343579673, 8.31281847262983, 10.538077881930985, 16.32602731298632, 23.253084247559723, 23.665289845473488, 28.67533470599823, 12.101897782424878, 5.823932941953501, 9.95589176827412, 13.772291531208092, 8.100760735646308, 6.381575691573521, 11.161299851868886, 8.279920628794418, 5.7281673676801015, 5.727925770055635, 4.87683872062028, 4.026964350504204, 3.1764595761153576, 3.1764438239436568, 3.176418921597562, 3.1764017250008183, 3.1764090443464155, 3.176393689598295, 3.1764416598045333, 3.176399028684624, 3.1763838608342163, 3.1763956457360405, 3.1764064674743016, 3.1763710729389634, 3.1763645171176695, 3.176386919593642, 3.176374426311798, 3.1763243619353867, 2.3257997608074326, 6.98869027830044, 3.8542059822947246, 3.8544988372137565, 3.9275703185510675, 7.74259397732226, 12.157973641859183, 1.4753170276651304, 1.475316924341738, 5.529122550071062, 5.626339223981863, 12.000197484303753, 23.665289845473488, 28.67533470599823, 13.772291531208092, 25.40757729501745, 6.096441055531484, 3.817880958267731, 1.3757768120481366, 1.3757768230351053, 1.3757768233458592, 1.3757768250942062, 1.3757768360780114, 1.3757767150219224, 1.3757767205263254, 1.3757767266842, 1.3757767266842, 1.3757767266842, 1.3757766859542613, 1.375776688431368, 1.375776567370729, 1.3757765923300829, 1.3757764593575463, 1.3757764734705435, 1.3757763288557463, 1.3757662297816864, 1.375763338168081, 1.375926848100536, 1.3759389024050623, 1.3759552602913767, 1.3759580819253416, 1.3759624992829025, 1.3759941695260307, 1.3760009038102559, 1.3760127113239256, 1.376030280464524, 1.3760553613346937, 2.7106350130420562, 2.8990700863745613, 5.303128377341633, 6.989040503742181, 12.000197484303753, 23.253084247559723, 25.40757729501745, 4.974219617572749, 5.16599270561882, 5.463854111159966, 5.529122550071062, 28.67533470599823, 6.381575691573521, 16.32602731298632, 23.665289845473488, 24.714975133609414, 9.95589176827412, 2.2261587233502937, 7.74259397732226, 12.101897782424878, 2.2261952342548623, 12.144559514649181, 2.1055037538987604, 8.31281847262983, 1.9591989547335344, 3.541268921373873, 2.8153275714379906, 2.8150604634278116, 2.814984203068055, 2.815240446384781, 2.8151489931371696, 6.533686590975277, 3.7329300726799697, 1.3539646279207223, 1.3540653869334827, 1.354014294210859, 1.3540564425834656, 1.354169907300307, 1.354231389978006, 1.354430091073081, 1.355044795888723, 1.3550447510442163, 1.3552531645650825, 1.3558235799014002, 1.3562866420496156, 1.3563155447372766, 5.482945089533056, 1.542868121615159, 4.347748617314161, 6.096441055531484, 4.650624196505264, 6.293449831263541, 7.914046839078744, 7.098671271133663, 2.1053967123472437, 8.100760735646308, 12.101897782424878, 16.32602731298632, 11.161299851868886, 13.772291531208092, 7.028428595877604, 10.538077881930985, 24.714975133609414, 25.40757729501745, 5.589364118163128, 4.679999864766641, 28.67533470599823, 1.9878240509174996, 1.9877736917809268, 1.3063542615776162, 1.3063542080970523, 1.3063536184919617, 1.3062809520586347, 1.3062793428390924, 1.3062730194080827, 1.30625272362151, 1.3062482665161472, 1.306242563672203, 1.3062403770319315, 1.3062372593052507, 1.3062317940290802, 1.306230484866469, 1.3062286611696876, 1.306214618961077, 1.3062004315750704, 1.3070566564835773, 1.3070882845757974, 1.307160725489147, 1.3072550924469786, 1.3072588798649212, 2.8384818895428383, 1.8895670938025426, 1.9843243538223843, 1.9842834582947633, 1.984846779800091, 1.9852076960832008, 3.845467789969978, 4.662946996332375, 28.67533470599823, 5.544671780510667, 13.921868343579673, 23.253084247559723, 24.714975133609414, 12.157973641859183, 13.772291531208092, 23.665289845473488, 2.7399926375174948, 25.40757729501745, 6.989040503742181, 2.0573307523568225, 2.886890914468857, 5.823932941953501, 2.834810922173269, 2.057383653983342, 2.156923860015788, 2.156923841027922, 4.974219617572749, 4.347748617314161, 1.302814647006797, 1.3028145705882155, 1.3028145705882155, 1.3028145774732471, 1.3028143413324709, 1.3028143550817817, 1.302814364375305, 1.3028143698317896, 1.302814377059539, 1.3028142869188128, 1.3028143054182035, 1.3028143054182035, 1.302814308906834, 1.3028143094395617, 1.3028143095210094, 1.3028143163533243, 1.3028142324882528, 1.302814246461102, 1.3028141632054075, 1.3028141652652747, 1.3025766227994056, 1.3025709217034687, 1.3025547579921717, 1.3024105465718216, 2.565779505849669, 5.621067279444509, 1.8860449609317969, 1.9842834582947633, 1.9843243538223843, 1.9852076960832008, 3.8162872973818507, 4.2652502038936095, 4.662946996332375, 4.732605210578164, 5.544671780510667, 23.253084247559723, 23.665289845473488, 11.161299851868886, 25.40757729501745, 28.67533470599823, 5.02138588435011, 6.98869027830044, 7.74259397732226, 24.714975133609414, 3.8544988372137565, 5.482945089533056, 13.772291531208092, 12.157973641859183, 13.921868343579673, 3.6546380173294652, 7.028428595877604, 2.2204629590949656, 2.834810922173269, 1.7916039330470426, 1.2081697143781982, 1.2081696648131863, 1.208169685898908, 1.2082232531975754, 1.2082251519514051, 1.2082263424611617, 1.2082270675137483, 1.20822786749824, 1.2082279970426795, 1.2082303770299188, 1.2082360116865998, 1.2082378158705416, 1.8860449609317969, 1.9591989547335344, 2.0587383418005616, 2.0584753832951233, 2.0587948018987867, 2.126018541735365, 5.02138588435011, 2.7106350130420562, 2.7399926375174948, 5.511553588348608, 2.8990700863745613, 3.6546380173294652, 4.2652502038936095, 4.662946996332375, 4.679999864766641, 4.974219617572749, 5.303128377341633, 11.161299851868886, 28.67533470599823, 23.253084247559723, 24.714975133609414, 25.40757729501745, 5.621067279444509, 7.028428595877604, 5.463854111159966, 12.101897782424878, 8.31281847262983, 1.7879980496948567, 1.7934733669208232, 1.2063669049317698, 1.2063669063871683, 1.2063669241865684, 1.2063668010807926, 1.206366810750986, 1.2063667640180078, 1.2063667783495295, 1.2063655072252122, 1.2063654288025198, 1.2076875355820405, 1.2077472982002322, 1.207789966708027, 1.2080427741072828, 1.208055888356367, 1.2083732914010834, 1.2086159695460992, 1.2086815451796018, 1.20970814351696, 1.209821383617963, 1.2107967782845497, 1.8895670938025426, 2.0580498656599997, 2.1259602768738617, 4.549665468555485, 2.565779505849669, 5.303128377341633, 2.875128283534212, 5.544671780510667, 13.921868343579673, 10.538077881930985, 23.253084247559723, 23.665289845473488, 3.9583907740283095, 7.028428595877604, 12.000197484303753, 6.98869027830044, 1.1963399622987407, 0.9105419690443817, 0.9105419450398002, 2.5122804126234497, 3.662357264376864, 5.16599270561882, 5.511553588348608, 5.544671780510667, 7.028428595877604, 0.8134713055995378, 23.253084247559723, 1.2063654288025198, 1.2063655072252122, 1.2063667640180078, 1.2063667783495295, 1.206366810750986, 1.2063668010807926, 1.2063669241865684, 1.2063669049317698, 1.2063669063871683, 1.2076875355820405, 1.2077472982002322, 1.207789966708027, 1.2080427741072828, 1.208055888356367, 1.2081696648131863, 1.208169685898908, 1.2081697143781982, 1.2082232531975754, 1.2082251519514051, 28.67533470599823, 6.533686590975277, 2.814984203068055, 2.8151489931371696, 2.8150604634278116, 4.347748617314161, 2.815240446384781, 3.541268921373873, 5.482945089533056, 7.098671271133663, 4.650624196505264, 12.101897782424878, 11.161299851868886, 6.293449831263541, 3.7329300726799697, 16.32602731298632, 8.100760735646308, 7.914046839078744, 6.096441055531484, 2.8153275714379906, 0.8134713055995378, 1.542868121615159, 2.8990700863745613, 3.817880958267731, 3.845467789969978, 0.9105419450398002, 0.9105419690443817, 10.538077881930985, 12.101897782424878, 1.1963399622987407, 1.208055888356367, 1.207789966708027, 1.2080427741072828, 1.2076875355820405, 1.20970814351696, 1.2077472982002322, 1.209821383617963, 1.2083732914010834, 1.2086815451796018, 1.2086159695460992, 1.2107967782845497, 1.2063654288025198, 1.2063655072252122, 1.2063667640180078, 1.2063667783495295, 1.2063668010807926, 1.206366810750986, 1.2063669049317698, 1.2063669063871683, 1.2063669241865684, 23.253084247559723, 3.3748906156485616, 3.375179319433917, 3.3751750333147363, 4.549665468555485, 3.375707000080277, 24.714975133609414, 6.128092936272962, 13.921868343579673, 7.957670453629855, 8.87668961484449, 12.144559514649181, 3.3761035655285827, 8.583837846191015, 3.376141801957834, 4.127057305835311, 4.27574804540004, 25.40757729501745, 7.914046839078744, 16.32602731298632, 8.100760735646308, 4.273482235208816, 6.381575691573521, 9.95589176827412, 7.0454242636591875, 7.098671271133663, 11.161299851868886], \"Category\": [\"Default\", \"Default\", \"Default\", \"Default\", \"Default\", \"Default\", \"Default\", \"Default\", \"Default\", \"Default\", \"Default\", \"Default\", \"Default\", \"Default\", \"Default\", \"Default\", \"Default\", \"Default\", \"Default\", \"Default\", \"Default\", \"Default\", \"Default\", \"Default\", \"Default\", \"Default\", \"Default\", \"Default\", \"Default\", \"Default\", \"Topic1\", \"Topic1\", \"Topic1\", \"Topic1\", \"Topic1\", \"Topic1\", \"Topic1\", \"Topic1\", \"Topic1\", \"Topic1\", \"Topic1\", \"Topic1\", \"Topic1\", \"Topic1\", \"Topic1\", \"Topic1\", \"Topic1\", \"Topic1\", \"Topic1\", \"Topic1\", \"Topic1\", \"Topic1\", \"Topic1\", \"Topic1\", \"Topic1\", \"Topic1\", \"Topic1\", \"Topic1\", \"Topic1\", \"Topic1\", \"Topic1\", \"Topic1\", \"Topic1\", \"Topic1\", \"Topic1\", \"Topic1\", \"Topic1\", \"Topic1\", \"Topic1\", \"Topic1\", \"Topic1\", \"Topic1\", \"Topic1\", \"Topic1\", \"Topic1\", \"Topic1\", \"Topic1\", \"Topic1\", \"Topic1\", \"Topic1\", \"Topic1\", \"Topic1\", \"Topic2\", \"Topic2\", \"Topic2\", \"Topic2\", \"Topic2\", \"Topic2\", \"Topic2\", \"Topic2\", \"Topic2\", \"Topic2\", \"Topic2\", \"Topic2\", \"Topic2\", \"Topic2\", \"Topic2\", \"Topic2\", \"Topic2\", \"Topic2\", \"Topic2\", \"Topic2\", \"Topic2\", \"Topic2\", \"Topic2\", \"Topic2\", \"Topic2\", \"Topic2\", \"Topic2\", \"Topic2\", \"Topic2\", \"Topic2\", \"Topic2\", \"Topic2\", \"Topic2\", \"Topic2\", \"Topic2\", \"Topic2\", \"Topic2\", \"Topic2\", \"Topic3\", \"Topic3\", \"Topic3\", \"Topic3\", \"Topic3\", \"Topic3\", \"Topic3\", \"Topic3\", \"Topic3\", \"Topic3\", \"Topic3\", \"Topic3\", \"Topic3\", \"Topic3\", \"Topic3\", \"Topic3\", \"Topic3\", \"Topic3\", \"Topic3\", \"Topic3\", \"Topic3\", \"Topic3\", \"Topic3\", \"Topic3\", \"Topic3\", \"Topic3\", \"Topic3\", \"Topic3\", \"Topic3\", \"Topic3\", \"Topic3\", \"Topic3\", \"Topic3\", \"Topic3\", \"Topic3\", \"Topic3\", \"Topic3\", \"Topic3\", \"Topic3\", \"Topic3\", \"Topic3\", \"Topic3\", \"Topic3\", \"Topic3\", \"Topic3\", \"Topic3\", \"Topic3\", \"Topic3\", \"Topic3\", \"Topic3\", \"Topic3\", \"Topic3\", \"Topic3\", \"Topic3\", \"Topic3\", \"Topic4\", \"Topic4\", \"Topic4\", \"Topic4\", \"Topic4\", \"Topic4\", \"Topic4\", \"Topic4\", \"Topic4\", \"Topic4\", \"Topic4\", \"Topic4\", \"Topic4\", \"Topic4\", \"Topic4\", \"Topic4\", \"Topic4\", \"Topic4\", \"Topic4\", \"Topic4\", \"Topic4\", \"Topic4\", \"Topic4\", \"Topic4\", \"Topic4\", \"Topic4\", \"Topic4\", \"Topic4\", \"Topic4\", \"Topic4\", \"Topic4\", \"Topic4\", \"Topic4\", \"Topic4\", \"Topic4\", \"Topic4\", \"Topic4\", \"Topic4\", \"Topic4\", \"Topic4\", \"Topic4\", \"Topic4\", \"Topic5\", \"Topic5\", \"Topic5\", \"Topic5\", \"Topic5\", \"Topic5\", \"Topic5\", \"Topic5\", \"Topic5\", \"Topic5\", \"Topic5\", \"Topic5\", \"Topic5\", \"Topic5\", \"Topic5\", \"Topic5\", \"Topic5\", \"Topic5\", \"Topic5\", \"Topic5\", \"Topic5\", \"Topic5\", \"Topic5\", \"Topic5\", \"Topic5\", \"Topic5\", \"Topic5\", \"Topic5\", \"Topic5\", \"Topic5\", \"Topic5\", \"Topic5\", \"Topic5\", \"Topic5\", \"Topic5\", \"Topic5\", \"Topic5\", \"Topic5\", \"Topic5\", \"Topic5\", \"Topic5\", \"Topic5\", \"Topic5\", \"Topic5\", \"Topic5\", \"Topic5\", \"Topic5\", \"Topic5\", \"Topic5\", \"Topic5\", \"Topic5\", \"Topic6\", \"Topic6\", \"Topic6\", \"Topic6\", \"Topic6\", \"Topic6\", \"Topic6\", \"Topic6\", \"Topic6\", \"Topic6\", \"Topic6\", \"Topic6\", \"Topic6\", \"Topic6\", \"Topic6\", \"Topic6\", \"Topic6\", \"Topic6\", \"Topic6\", \"Topic6\", \"Topic6\", \"Topic6\", \"Topic6\", \"Topic6\", \"Topic6\", \"Topic6\", \"Topic6\", \"Topic6\", \"Topic6\", \"Topic6\", \"Topic6\", \"Topic6\", \"Topic6\", \"Topic6\", \"Topic6\", \"Topic6\", \"Topic6\", \"Topic6\", \"Topic6\", \"Topic6\", \"Topic6\", \"Topic6\", \"Topic6\", \"Topic6\", \"Topic6\", \"Topic6\", \"Topic6\", \"Topic6\", \"Topic6\", \"Topic6\", \"Topic6\", \"Topic6\", \"Topic6\", \"Topic7\", \"Topic7\", \"Topic7\", \"Topic7\", \"Topic7\", \"Topic7\", \"Topic7\", \"Topic7\", \"Topic7\", \"Topic7\", \"Topic7\", \"Topic7\", \"Topic7\", \"Topic7\", \"Topic7\", \"Topic7\", \"Topic7\", \"Topic7\", \"Topic7\", \"Topic7\", \"Topic7\", \"Topic7\", \"Topic7\", \"Topic7\", \"Topic7\", \"Topic7\", \"Topic7\", \"Topic7\", \"Topic7\", \"Topic7\", \"Topic7\", \"Topic7\", \"Topic7\", \"Topic7\", \"Topic7\", \"Topic7\", \"Topic7\", \"Topic7\", \"Topic7\", \"Topic7\", \"Topic8\", \"Topic8\", \"Topic8\", \"Topic8\", \"Topic8\", \"Topic8\", \"Topic8\", \"Topic8\", \"Topic8\", \"Topic8\", \"Topic8\", \"Topic8\", \"Topic8\", \"Topic8\", \"Topic8\", \"Topic8\", \"Topic8\", \"Topic8\", \"Topic8\", \"Topic8\", \"Topic8\", \"Topic8\", \"Topic8\", \"Topic8\", \"Topic8\", \"Topic8\", \"Topic8\", \"Topic8\", \"Topic8\", \"Topic8\", \"Topic8\", \"Topic8\", \"Topic8\", \"Topic8\", \"Topic8\", \"Topic8\", \"Topic8\", \"Topic8\", \"Topic9\", \"Topic9\", \"Topic9\", \"Topic9\", \"Topic9\", \"Topic9\", \"Topic9\", \"Topic9\", \"Topic9\", \"Topic9\", \"Topic9\", \"Topic9\", \"Topic9\", \"Topic9\", \"Topic9\", \"Topic9\", \"Topic9\", \"Topic9\", \"Topic9\", \"Topic9\", \"Topic9\", \"Topic9\", \"Topic9\", \"Topic9\", \"Topic9\", \"Topic9\", \"Topic9\", \"Topic9\", \"Topic9\", \"Topic9\", \"Topic9\", \"Topic9\", \"Topic9\", \"Topic9\", \"Topic9\", \"Topic9\", \"Topic9\", \"Topic9\", \"Topic9\", \"Topic9\", \"Topic9\", \"Topic9\", \"Topic9\", \"Topic9\", \"Topic9\", \"Topic9\", \"Topic9\", \"Topic9\", \"Topic9\", \"Topic9\", \"Topic10\", \"Topic10\", \"Topic10\", \"Topic10\", \"Topic10\", \"Topic10\", \"Topic10\", \"Topic10\", \"Topic10\", \"Topic10\", \"Topic10\", \"Topic10\", \"Topic10\", \"Topic10\", \"Topic10\", \"Topic10\", \"Topic10\", \"Topic10\", \"Topic10\", \"Topic10\", \"Topic10\", \"Topic10\", \"Topic10\", \"Topic10\", \"Topic10\", \"Topic10\", \"Topic10\", \"Topic10\", \"Topic10\", \"Topic10\", \"Topic10\", \"Topic10\", \"Topic10\", \"Topic10\", \"Topic10\", \"Topic10\", \"Topic10\", \"Topic10\", \"Topic10\", \"Topic10\", \"Topic10\", \"Topic10\", \"Topic10\", \"Topic10\", \"Topic10\", \"Topic10\", \"Topic10\", \"Topic10\", \"Topic10\", \"Topic10\", \"Topic10\", \"Topic10\", \"Topic10\", \"Topic10\", \"Topic10\", \"Topic10\", \"Topic10\"], \"logprob\": [30.0, 29.0, 28.0, 27.0, 26.0, 25.0, 24.0, 23.0, 22.0, 21.0, 20.0, 19.0, 18.0, 17.0, 16.0, 15.0, 14.0, 13.0, 12.0, 11.0, 10.0, 9.0, 8.0, 7.0, 6.0, 5.0, 4.0, 3.0, 2.0, 1.0, -3.8793, -3.9987, -4.1234, -4.2743, -4.6714, -4.6715, -4.6746, -4.6751, -4.6754, -4.5001, -4.9508, -4.9509, -4.9509, -4.951, -4.951, -4.951, -4.9511, -4.9511, -4.9511, -4.9511, -4.9511, -4.9511, -4.9512, -4.9512, -4.9512, -4.9512, -4.9512, -4.9513, -4.9513, -4.9515, -3.676, -4.2738, -4.4547, -4.1024, -4.7378, -4.7473, -3.2392, -3.3741, -3.8856, -4.2757, -4.1157, -3.798, -3.7079, -3.7083, -3.6797, -4.2398, -4.6746, -4.4108, -4.2619, -4.538, -4.671, -4.6714, -3.4201, -3.8201, -3.8204, -4.0, -4.2179, -4.4969, -4.497, -4.497, -4.497, -4.4971, -4.4971, -4.4971, -4.4971, -4.4971, -4.4971, -4.4971, -4.4971, -4.4972, -4.4972, -4.4972, -4.4973, -4.8874, -3.8202, -4.4971, -4.4971, -4.4971, -3.8207, -3.4199, -5.5328, -5.5328, -4.2174, -4.2174, -3.6683, -3.5367, -3.8204, -4.2174, -4.3197, -4.4831, -3.6426, -4.9571, -4.9571, -4.9571, -4.9571, -4.9571, -4.9571, -4.9571, -4.9571, -4.9571, -4.9571, -4.9571, -4.9571, -4.9571, -4.9571, -4.9571, -4.9571, -4.9571, -4.9571, -4.9571, -4.9579, -4.958, -4.9581, -4.9581, -4.9581, -4.9583, -4.9583, -4.9584, -4.9585, -4.9586, -4.3126, -4.312, -3.921, -3.9229, -3.6414, -3.4233, -3.4235, -4.311, -4.3117, -4.3111, -4.3105, -3.6439, -4.3121, -3.9214, -3.9222, -3.922, -4.3093, -4.9551, -4.9551, -4.9552, -4.9554, -4.957, -4.957, -4.957, -4.9571, -3.5787, -3.8599, -3.8602, -3.8603, -3.8603, -3.8606, -3.1837, -3.8601, -4.8868, -4.8871, -4.8872, -4.8873, -4.888, -4.888, -4.8893, -4.8908, -4.8908, -4.8918, -4.8946, -4.8968, -4.897, -3.581, -4.8878, -3.8618, -3.5787, -3.8603, -3.5783, -3.4034, -3.6486, -4.8883, -3.5793, -3.2621, -3.3029, -3.5871, -3.8724, -4.4137, -4.3935, -4.455, -4.522, -4.8236, -4.8359, -4.832, -4.0497, -4.0499, -4.6956, -4.6956, -4.6956, -4.6963, -4.6963, -4.6963, -4.6965, -4.6966, -4.6966, -4.6966, -4.6967, -4.6967, -4.6967, -4.6967, -4.6969, -4.697, -4.6983, -4.6984, -4.6987, -4.6991, -4.6991, -4.0493, -4.6969, -4.6965, -4.6968, -4.6983, -4.6986, -4.0489, -4.0507, -2.6984, -4.0496, -3.661, -3.6593, -3.6609, -4.0507, -4.0495, -4.0492, -4.6937, -4.6939, -4.694, -4.6946, -4.6949, -4.695, -4.6956, -4.6956, -4.6956, -4.6956, -4.6956, -4.6956, -4.7006, -4.7006, -4.7006, -4.7006, -4.7006, -4.7006, -4.7006, -4.7006, -4.7006, -4.7006, -4.7006, -4.7006, -4.7006, -4.7006, -4.7006, -4.7006, -4.7006, -4.7006, -4.7006, -4.7006, -4.7028, -4.7029, -4.703, -4.7044, -4.0539, -3.3855, -4.7024, -4.7006, -4.7006, -4.7006, -4.0552, -4.0536, -4.0555, -4.0539, -4.0539, -3.5735, -3.5723, -4.0547, -4.0539, -4.0537, -4.6983, -4.6985, -4.6996, -4.6997, -4.6998, -4.6999, -4.6999, -4.7, -4.7, -4.7, -4.7006, -4.7006, -4.7006, -3.7731, -4.4197, -4.4197, -4.4197, -4.4202, -4.4203, -4.4203, -4.4203, -4.4203, -4.4203, -4.4203, -4.4204, -4.4204, -4.4204, -4.4197, -4.4197, -4.4202, -4.4203, -4.4204, -3.7737, -4.4197, -4.4197, -3.7736, -4.4197, -4.4203, -4.4203, -4.4202, -4.4197, -4.4197, -4.4206, -3.7735, -3.3838, -3.7734, -3.7736, -3.7731, -4.4197, -4.4197, -4.4197, -4.4197, -4.4202, -3.754, -3.7737, -4.4006, -4.4006, -4.4006, -4.4006, -4.4006, -4.4006, -4.4006, -4.4006, -4.4006, -4.4104, -4.4108, -4.4113, -4.413, -4.4133, -4.4145, -4.4158, -4.4164, -4.4237, -4.424, -4.4301, -4.4117, -4.4113, -4.414, -3.7907, -4.4225, -3.7558, -4.4002, -3.756, -3.3735, -3.6855, -3.7331, -4.3602, -4.4006, -4.4006, -4.4006, -4.408, -3.2175, -3.8641, -3.8641, -3.8641, -3.8641, -3.8641, -3.8641, -3.8641, -3.8641, -6.262, -3.2175, -6.262, -6.262, -6.262, -6.262, -6.262, -6.262, -6.262, -6.262, -6.262, -6.262, -6.262, -6.262, -6.262, -6.262, -6.262, -6.262, -6.262, -6.262, -6.262, -3.2175, -6.2339, -6.2468, -6.2478, -6.2484, -6.2468, -6.2512, -6.2493, -6.2465, -6.248, -6.2487, -6.25, -6.2501, -6.2505, -6.2509, -6.2521, -6.2527, -6.2531, -6.2533, -6.255, -3.747, -3.747, -3.747, -3.747, -3.747, -6.1449, -6.1449, -3.7432, -3.7444, -6.1449, -6.1383, -6.1391, -6.139, -6.1396, -6.1382, -6.1399, -6.1393, -6.1406, -6.1405, -6.1412, -6.1396, -6.1449, -6.1449, -6.1449, -6.1449, -6.1449, -6.1449, -6.1449, -6.1449, -6.1449, -3.7406, -6.1006, -6.1043, -6.1044, -6.1017, -6.1116, -6.0595, -6.0962, -6.08, -6.0921, -6.0917, -6.0886, -6.1166, -6.0983, -6.1172, -6.1136, -6.1131, -6.0899, -6.1065, -6.0996, -6.1079, -6.1144, -6.1109, -6.1094, -6.11, -6.1101, -6.1123], \"loglift\": [30.0, 29.0, 28.0, 27.0, 26.0, 25.0, 24.0, 23.0, 22.0, 21.0, 20.0, 19.0, 18.0, 17.0, 16.0, 15.0, 14.0, 13.0, 12.0, 11.0, 10.0, 9.0, 8.0, 7.0, 6.0, 5.0, 4.0, 3.0, 2.0, 1.0, 0.9891, 0.979, 0.9761, 0.9647, 0.9232, 0.9232, 0.9205, 0.9201, 0.9199, 0.9043, 0.884, 0.884, 0.884, 0.884, 0.8839, 0.8839, 0.8839, 0.8839, 0.8839, 0.8839, 0.8839, 0.8839, 0.8839, 0.8839, 0.8839, 0.8839, 0.8839, 0.8838, 0.8838, 0.8838, 0.879, 0.8739, 0.8403, 0.7996, 0.8611, 0.8521, 0.6052, 0.4427, 0.5328, 0.6584, 0.5811, 0.4611, 0.1975, 0.1796, 0.0162, 0.3187, 0.6152, 0.3429, 0.1673, 0.4219, 0.5274, -0.032, 1.5179, 1.4864, 1.4861, 1.4673, 1.441, 1.3992, 1.3991, 1.3991, 1.3991, 1.399, 1.399, 1.399, 1.399, 1.399, 1.399, 1.399, 1.399, 1.3989, 1.3989, 1.3989, 1.3988, 1.3204, 1.2874, 1.2056, 1.2055, 1.1868, 1.1844, 1.134, 1.1302, 1.1302, 1.1245, 1.107, 0.8986, 0.3511, -0.1246, 0.2118, -0.5029, 0.761, 2.0695, 1.7757, 1.7757, 1.7757, 1.7757, 1.7757, 1.7757, 1.7757, 1.7757, 1.7757, 1.7757, 1.7757, 1.7757, 1.7757, 1.7757, 1.7757, 1.7757, 1.7757, 1.7757, 1.7757, 1.7748, 1.7747, 1.7746, 1.7746, 1.7746, 1.7744, 1.7743, 1.7743, 1.7742, 1.774, 1.7421, 1.6755, 1.4626, 1.1846, 0.9255, 0.4821, 0.3933, 1.1366, 1.098, 1.0426, 1.0314, 0.0519, 0.8863, 0.3377, -0.0343, -0.0775, 0.4444, 1.2965, 0.05, -0.3967, 1.2962, -0.402, 1.3503, -0.023, 1.4222, 2.2087, 2.1568, 2.1566, 2.1566, 2.1565, 2.1563, 1.9911, 1.8746, 1.862, 1.8616, 1.8615, 1.8614, 1.8607, 1.8606, 1.8592, 1.8572, 1.8572, 1.8561, 1.8529, 1.8503, 1.8501, 1.7692, 1.7304, 1.7204, 1.6655, 1.6545, 1.6341, 1.5798, 1.4434, 1.4191, 1.3806, 1.2964, 0.9562, 1.0523, 0.5568, 0.6882, 0.3034, -0.6106, -0.7052, 0.5074, 0.6726, -1.1362, 2.3151, 2.3149, 2.089, 2.089, 2.089, 2.0884, 2.0884, 2.0883, 2.0882, 2.0881, 2.0881, 2.0881, 2.088, 2.088, 2.088, 2.088, 2.0879, 2.0877, 2.0858, 2.0856, 2.0853, 2.0849, 2.0848, 1.9593, 1.7186, 1.6701, 1.6697, 1.668, 1.6675, 1.6561, 1.4615, 0.9974, 1.2894, 0.7574, 0.2461, 0.1836, 0.5031, 0.3797, -0.1613, 1.3502, -0.8771, 0.4135, 1.6359, 1.2968, 0.5949, 1.3143, 1.6348, 1.5876, 1.5876, 0.752, 0.8866, 2.0868, 2.0868, 2.0868, 2.0868, 2.0868, 2.0868, 2.0868, 2.0868, 2.0868, 2.0868, 2.0868, 2.0868, 2.0868, 2.0868, 2.0868, 2.0868, 2.0868, 2.0868, 2.0868, 2.0868, 2.0847, 2.0847, 2.0845, 2.0833, 2.0557, 1.9398, 1.715, 1.666, 1.666, 1.6656, 1.6574, 1.5477, 1.4567, 1.4434, 1.2851, 0.3319, 0.3156, 0.5847, -0.2371, -0.3579, 0.7398, 0.4091, 0.3055, -0.8552, 1.0028, 0.6504, -0.2707, -0.1461, -0.2816, 1.0558, 0.4013, 1.5536, 1.3093, 2.6957, 2.443, 2.443, 2.443, 2.4425, 2.4424, 2.4424, 2.4424, 2.4424, 2.4424, 2.4424, 2.4423, 2.4423, 1.997, 1.9596, 1.91, 1.9097, 1.9095, 1.8772, 1.6645, 1.6349, 1.6242, 1.5714, 1.5677, 1.3356, 1.1811, 1.092, 1.0888, 1.0279, 0.963, 0.8659, 0.312, 0.1321, 0.0709, 0.0437, 0.9056, 0.6822, 0.934, 0.1388, 0.5138, 2.7168, 2.694, 2.4636, 2.4636, 2.4636, 2.4636, 2.4636, 2.4636, 2.4636, 2.4636, 2.4636, 2.4527, 2.4523, 2.4517, 2.4499, 2.4496, 2.4481, 2.4466, 2.4459, 2.4378, 2.4374, 2.4305, 2.0038, 1.9188, 1.8836, 1.7461, 1.6871, 1.6277, 1.5955, 1.583, 1.0449, 1.0113, 0.1723, -0.4723, 1.2754, 0.7012, 0.1663, 0.6995, 3.6551, 3.2814, 3.2814, 2.2665, 1.8897, 1.5456, 1.4809, 1.4749, 1.2378, 0.9963, 0.688, 0.6022, 0.6022, 0.6022, 0.6022, 0.6022, 0.6022, 0.6022, 0.6022, 0.6022, 0.6011, 0.6011, 0.6011, 0.6008, 0.6008, 0.6007, 0.6007, 0.6007, 0.6007, 0.6007, 0.4783, -1.059, -0.2299, -0.2309, -0.2315, -0.6646, -0.2344, -0.4619, -0.8963, -1.156, -0.7339, -1.6915, -1.6107, -1.0381, -0.5163, -1.993, -1.2928, -1.2698, -1.0091, -0.2382, 3.5113, 2.8712, 2.2405, 1.9652, 1.958, 1.0007, 1.0007, 0.9537, 0.8141, 0.7277, 0.7246, 0.724, 0.7239, 0.7236, 0.7232, 0.7232, 0.722, 0.722, 0.7218, 0.7212, 0.721, 0.7194, 0.7194, 0.7194, 0.7194, 0.7194, 0.7194, 0.7194, 0.7194, 0.7194, 0.1648, -0.2651, -0.2689, -0.269, -0.5649, -0.2763, -2.215, -0.8572, -1.6616, -1.1144, -1.2233, -1.5337, -0.2814, -1.1963, -0.2821, -0.4794, -0.5142, -2.2731, -1.1232, -1.8405, -1.148, -0.515, -0.9124, -1.3557, -1.0105, -1.0181, -1.4729]}, \"token.table\": {\"Topic\": [8, 6, 1, 3, 7, 7, 2, 6, 8, 1, 2, 3, 8, 2, 3, 3, 5, 6, 8, 1, 3, 4, 1, 1, 8, 1, 2, 5, 8, 6, 1, 3, 5, 8, 5, 6, 1, 7, 1, 6, 2, 3, 5, 5, 5, 1, 2, 4, 4, 1, 3, 4, 1, 1, 4, 7, 3, 8, 1, 3, 1, 6, 1, 1, 3, 4, 3, 4, 8, 7, 4, 3, 2, 2, 5, 6, 4, 2, 2, 2, 3, 5, 6, 8, 7, 6, 8, 6, 2, 4, 3, 2, 4, 6, 2, 4, 5, 8, 8, 2, 8, 2, 2, 3, 1, 5, 6, 7, 8, 5, 5, 1, 1, 6, 1, 8, 1, 7, 7, 3, 3, 1, 7, 3, 3, 3, 6, 7, 1, 5, 6, 6, 3, 1, 2, 3, 6, 5, 7, 1, 8, 3, 5, 1, 2, 5, 6, 6, 6, 2, 6, 7, 1, 2, 3, 6, 8, 5, 8, 1, 1, 2, 5, 1, 1, 2, 3, 5, 6, 8, 6, 8, 1, 4, 6, 7, 8, 3, 5, 3, 5, 2, 4, 5, 1, 1, 4, 5, 8, 4, 5, 6, 7, 3, 2, 1, 3, 6, 1, 6, 4, 5, 6, 7, 7, 1, 3, 8, 2, 4, 5, 1, 1, 3, 4, 7, 1, 6, 1, 4, 8, 2, 6, 7, 1, 8, 3, 3, 4, 3, 5, 2, 6, 1, 4, 6, 1, 9, 2, 2, 5, 6, 6, 1, 3, 4, 5, 2, 7, 1, 2, 4, 5, 6, 3, 4, 5, 6, 1, 2, 3, 4, 5, 6, 7, 1, 7, 2, 1, 7, 3, 5, 8, 1, 4, 6, 2, 5, 5, 2, 3, 2, 3, 4, 5, 7, 2, 6, 6, 2, 2, 2, 1, 3, 5, 6, 8, 2, 6, 2, 5, 7, 1, 4, 2, 4, 1, 4, 4, 2, 2, 6, 7, 5, 1, 8, 2, 1, 6, 1, 2, 3, 5, 6, 7, 8, 9, 8, 3, 2, 1, 1, 8, 5, 3, 7, 2, 5, 2, 5, 3, 1, 2, 5, 6, 7, 1, 3, 4, 5, 6, 7, 2, 3, 4, 1, 4, 1, 2, 6, 4, 4, 5, 1, 3, 8, 6, 3, 2, 3, 6, 2, 2, 8, 6, 3, 5, 1, 3, 4, 7, 2, 7, 1, 7, 4, 1, 1, 4, 5, 4, 6, 3, 3, 8, 6, 1, 4, 1, 1, 3, 7, 1, 2, 3, 4, 5, 6, 7, 9, 5, 8, 5, 6, 1, 8, 1, 6, 2, 1, 5, 7, 1, 5, 5, 4, 3, 4, 1, 2, 3, 7, 2, 1, 2, 3, 4, 5, 6, 7, 3, 7, 8, 3, 6, 7, 8, 6, 3, 8, 3, 1, 2, 6, 7, 1, 7, 2, 7, 3, 7, 1, 5, 1, 3], \"Freq\": [0.8289352716670656, 0.7675690677642456, 0.5807209128919275, 0.387147275261285, 0.8276983184763419, 0.8276616075327881, 0.7154416351121996, 0.14308832702243993, 0.14308832702243993, 0.16666392387425275, 0.49999177162275826, 0.24999588581137913, 0.08333196193712637, 0.7638310091687269, 0.25461033638957564, 0.1803533265061723, 0.1803533265061723, 0.1803533265061723, 0.1803533265061723, 0.8885983328921672, 0.7267437086930106, 0.6481435360483987, 0.8883305903273233, 0.7700985342163802, 0.557577279063184, 0.6868210949314767, 0.17170527373286917, 0.17170527373286917, 0.8289352783117812, 0.7677125163305701, 0.26004638567205557, 0.26004638567205557, 0.26004638567205557, 0.8273477856827928, 0.5039602561921126, 0.5039602561921126, 0.8885135160920729, 0.8276583578990481, 0.8884625036673753, 0.7675691317594575, 0.7449780377679229, 0.7267374725323966, 0.7655330427461104, 0.7655577062101802, 0.7655792907633315, 0.37907281331547227, 0.12635760443849076, 0.505430417753963, 0.7373072689773037, 0.7269101874980639, 0.24230339583268795, 0.7385717317709368, 0.888431083309733, 0.6410256595487293, 0.21367521984957644, 0.21367521984957644, 0.7268622698101517, 0.5592847263847195, 0.8884826645469198, 0.726862077668889, 0.5240695587494402, 0.2620347793747201, 0.8884590407916976, 0.7020036202053874, 0.4749698686881343, 0.4749698686881343, 0.7268621285738198, 0.7385446403893512, 0.8289352059522285, 0.8276594913193137, 0.7384597712657894, 0.7267639928567535, 0.6778204625058332, 0.35275721289847567, 0.35275721289847567, 0.35275721289847567, 0.7379830070035592, 0.8202034615348617, 0.8729163401765654, 0.4491969008884854, 0.4491969008884854, 0.5038172266882573, 0.5038172266882573, 0.8289353037788703, 0.8276528677572529, 0.7675690905815923, 0.8277852584640293, 0.7677220430574866, 0.9661928367017238, 0.8471539627767434, 0.7268621318272008, 0.15305294890961874, 0.6122117956384749, 0.15305294890961874, 0.3463934141009912, 0.3463934141009912, 0.3463934141009912, 0.8280287496037241, 0.8289362212514948, 0.48589687581710184, 0.48589687581710184, 0.9444524022072596, 0.3980447385472188, 0.3980447385472188, 0.5746355160504982, 0.14365887901262456, 0.07182943950631228, 0.07182943950631228, 0.14365887901262456, 0.7649616404462845, 0.7655627454266167, 0.8888427919703236, 0.8884017125345377, 0.7675690622888524, 0.8888416632344022, 0.8266456709902937, 0.47036278394060893, 0.47036278394060893, 0.8276603068433888, 0.7268620707779503, 0.7268621347353341, 0.8191445518383741, 0.827698304030841, 0.7268621487838838, 0.7268692021780182, 0.7268621500926101, 0.5302100536913775, 0.5302100536913775, 0.8884404186667076, 0.5039498699261086, 0.5039498699261086, 0.7675690970241533, 0.7857762022420877, 0.5022151823639966, 0.20088607294559865, 0.20088607294559865, 0.10044303647279933, 0.7655512551737718, 0.558159078328917, 0.4703756748787703, 0.4703756748787703, 0.726767816410133, 0.7655320996789007, 0.9935526574469774, 0.9444730366638191, 0.7649594241833185, 0.7675690949687837, 0.7675690970241533, 0.7675691808105831, 0.4689056689275261, 0.23445283446376305, 0.23445283446376305, 0.9320848574925136, 0.6457784063900025, 0.1291556812780005, 0.1291556812780005, 0.1291556812780005, 0.5292217478171742, 0.5292217478171742, 0.9320273131765364, 0.17773546176127678, 0.5332063852838302, 0.17773546176127678, 0.9012368740055524, 0.42255979391322446, 0.2957918557392571, 0.08451195878264489, 0.042255979391322446, 0.08451195878264489, 0.042255979391322446, 0.3897451038641942, 0.3897451038641942, 0.4268379423758527, 0.14227931412528422, 0.14227931412528422, 0.14227931412528422, 0.14227931412528422, 0.7267764566086891, 0.7654891398236432, 0.4860667147732211, 0.4860667147732211, 0.230004098217103, 0.460008196434206, 0.230004098217103, 0.8885165337816935, 0.6642577591879905, 0.09489396559828435, 0.09489396559828435, 0.09489396559828435, 0.21445665172401632, 0.21445665172401632, 0.21445665172401632, 0.21445665172401632, 0.7267472654658529, 0.9444759831035677, 0.8234139729759371, 0.08234139729759371, 0.08234139729759371, 0.633900328997335, 0.21130010966577834, 0.5471512026861259, 0.18238373422870865, 0.18238373422870865, 0.18238373422870865, 0.8276516318763744, 0.6268044434984537, 0.31340222174922683, 0.15670111087461341, 0.8599192560350394, 0.7378695185123677, 0.7655486430126308, 0.9315384577764845, 0.49579000813521745, 0.08263166802253624, 0.33052667209014497, 0.08263166802253624, 0.888516830692828, 0.7675690548157803, 0.9790974227047433, 0.7385216513515896, 0.8289352939311982, 0.35580431625747166, 0.5337064743862074, 0.17790215812873583, 0.8885367714197822, 0.8279877764911465, 0.7268620834736175, 0.7268622127436853, 0.7104419712333673, 0.7267663260502286, 0.7650777761159465, 0.7783704383681783, 0.25945681278939275, 0.49378078559937444, 0.3703355891995308, 0.7675691795969868, 0.8884726976828321, 0.8358828021413931, 0.9444667272564637, 0.3523009971224648, 0.3523009971224648, 0.7675690758648209, 0.7675688957730784, 0.5512669939514967, 0.12250377643366595, 0.2450075528673319, 0.06125188821683297, 0.4857210631568135, 0.4857210631568135, 0.43565734768277053, 0.21782867384138527, 0.14521911589425684, 0.07260955794712842, 0.07260955794712842, 0.7267828237965541, 0.7104188924851232, 0.5037256313145432, 0.5037256313145432, 0.5510167237686794, 0.11807501223614558, 0.1574333496481941, 0.03935833741204853, 0.03935833741204853, 0.03935833741204853, 0.03935833741204853, 0.8889176988699179, 0.8276584466393767, 0.9444673088931231, 0.8629548520896723, 0.17259097041793445, 0.486054216511286, 0.486054216511286, 0.8279585255420006, 0.5367336850092191, 0.17891122833640638, 0.17891122833640638, 0.46362322682669027, 0.46362322682669027, 0.7655545974468387, 0.542581571096022, 0.36172104739734795, 0.20103655987910846, 0.4020731197582169, 0.20103655987910846, 0.20103655987910846, 0.20103655987910846, 0.9444649196566052, 0.7675689367396065, 0.767568940796006, 0.9444657213745363, 0.9444740337671648, 0.944487923195618, 0.4292434703152304, 0.2861623135434869, 0.14308115677174346, 0.14308115677174346, 0.8289352069522816, 0.778311299781988, 0.25943709992732933, 0.364964484322858, 0.364964484322858, 0.364964484322858, 0.43004979879967736, 0.43004979879967736, 0.49209038071122, 0.49209038071122, 0.47668609116372146, 0.47668609116372146, 0.7103969073760237, 0.9444693218872066, 0.5974446236745005, 0.19914820789150015, 0.19914820789150015, 0.7650592632497966, 0.6593891398684523, 0.21979637995615073, 0.9444530456714288, 0.9320178258594382, 0.7675690590740976, 0.4300504781876169, 0.08601009563752338, 0.17202019127504675, 0.08601009563752338, 0.08601009563752338, 0.04300504781876169, 0.04300504781876169, 0.04300504781876169, 0.8289361673645013, 0.7268622623538494, 0.8728795230759803, 0.8884923695874881, 0.8796544215784887, 0.8275588405636813, 0.7654891711618443, 0.7378344891057339, 0.36891724455286695, 0.4636232309080656, 0.4636232309080656, 0.9444635095411545, 0.5030753773102106, 0.7268676744294597, 0.16450109688625403, 0.6580043875450161, 0.08225054844312701, 0.08225054844312701, 0.8276982845201216, 0.3583811969114177, 0.08959529922785442, 0.26878589768356326, 0.08959529922785442, 0.08959529922785442, 0.08959529922785442, 0.449204268101348, 0.449204268101348, 0.7104643136384581, 0.888385562871021, 0.7384262448799396, 0.8154860477829476, 0.11649800682613537, 0.11649800682613537, 0.7379829825803932, 0.7104835607319562, 0.7655709754614209, 0.3478105675238824, 0.3478105675238824, 0.3478105675238824, 0.767568940796006, 0.7268620775047089, 0.9444627433420768, 0.7267281935557532, 0.7678070502670449, 0.9444598064826938, 0.9444477186354884, 0.8259024288260781, 0.7675691079232974, 0.7268620765810073, 0.7655558789816483, 0.4226143013833204, 0.14087143379444014, 0.4226143013833204, 0.8276567275673102, 0.48579643366890346, 0.48579643366890346, 0.8883584409088074, 0.8276589946439196, 0.7375590857276012, 0.8887027221049273, 0.2678860789058589, 0.5357721578117178, 0.5030626324993102, 0.738516773008041, 0.7675691399917346, 0.7268621285738198, 0.7268621285738198, 0.8273926749251495, 0.7675690946069347, 0.9355088179957898, 0.7372915571749963, 0.9315035608134028, 0.5490629762373186, 0.3660419841582124, 0.1830209920791062, 0.34873176207105355, 0.17436588103552678, 0.10461952862131607, 0.03487317620710536, 0.20923905724263214, 0.03487317620710536, 0.06974635241421072, 0.03487317620710536, 0.7650168647973984, 0.8289351937216631, 0.7655367485528671, 0.7677091562190566, 0.7578837389384399, 0.25262791297947995, 0.45035653303921275, 0.45035653303921275, 0.9444702313819551, 0.544311136943671, 0.1814370456478903, 0.1814370456478903, 0.8885882690887841, 0.7655616765843788, 0.7654895166550597, 0.7383179143692274, 0.4749457217296813, 0.4749457217296813, 0.7217768582046096, 0.12029614303410159, 0.12029614303410159, 0.12029614303410159, 0.6778204150348771, 0.6473807848684384, 0.0404612990542774, 0.0809225981085548, 0.0404612990542774, 0.0809225981085548, 0.0404612990542774, 0.0404612990542774, 0.5104126855437239, 0.5104126855437239, 0.8277762723052162, 0.37713588238694795, 0.18856794119347398, 0.18856794119347398, 0.18856794119347398, 0.7675690946549206, 0.7268621995569432, 0.8265682963955444, 0.7267149477402262, 0.27362491039009246, 0.27362491039009246, 0.27362491039009246, 0.27362491039009246, 0.8937055015444969, 0.14895091692408283, 0.485734383868037, 0.485734383868037, 0.6898763880872933, 0.3449381940436467, 0.8885456561849535, 0.7655609093049969, 0.8885335236325936, 0.7268623387580123], \"Term\": [\"absolutely\", \"active\", \"add\", \"add\", \"advice\", \"advise\", \"almond\", \"almond\", \"almond\", \"also\", \"also\", \"also\", \"also\", \"always\", \"always\", \"amazing\", \"amazing\", \"amazing\", \"amazing\", \"antimicrobial\", \"antiseptic\", \"aroma\", \"aromatic\", \"artificial\", \"aryuvedic\", \"authentic\", \"authentic\", \"authentic\", \"avoid\", \"awasome\", \"awesome\", \"awesome\", \"awesome\", \"ayurveda\", \"ayurvedic\", \"ayurvedic\", \"bacterial\", \"bad\", \"balance\", \"base\", \"become\", \"believe\", \"benifit\", \"benifitial\", \"bit\", \"black\", \"black\", \"black\", \"bland\", \"blend\", \"blend\", \"blood\", \"body\", \"boost\", \"boost\", \"boost\", \"brand\", \"bring\", \"build\", \"building\", \"buy\", \"buy\", \"buying\", \"caffeine\", \"cardamom\", \"cardamom\", \"chocolate\", \"cinnamon\", \"classy\", \"clean\", \"cleansing\", \"coffee\", \"color\", \"colour\", \"colour\", \"colour\", \"combination\", \"come\", \"consider\", \"consume\", \"consume\", \"contain\", \"contain\", \"cooking\", \"corona\", \"cough\", \"cover\", \"covid\", \"crush\", \"daily\", \"dailyno\", \"day\", \"day\", \"day\", \"delicious\", \"delicious\", \"delicious\", \"dessert\", \"detoxification\", \"different\", \"different\", \"difficult\", \"do\", \"do\", \"drink\", \"drink\", \"drink\", \"drink\", \"drink\", \"dry\", \"effect\", \"elegant\", \"elixir\", \"energy\", \"enhance\", \"enrich\", \"especially\", \"especially\", \"essential\", \"etcbut\", \"even\", \"everyday\", \"excellent\", \"exercise\", \"extra\", \"extremely\", \"feel\", \"feel\", \"fight\", \"first\", \"first\", \"flack\", \"flavor\", \"flavour\", \"flavour\", \"flavour\", \"flavour\", \"float\", \"follow\", \"form\", \"form\", \"fragrant\", \"frankly\", \"free\", \"fresh\", \"fruit\", \"fully\", \"furnish\", \"general\", \"get\", \"get\", \"get\", \"ginger\", \"give\", \"give\", \"give\", \"give\", \"glass\", \"glass\", \"gluten\", \"go\", \"go\", \"go\", \"golden\", \"good\", \"good\", \"good\", \"good\", \"good\", \"good\", \"goodness\", \"goodness\", \"great\", \"great\", \"great\", \"great\", \"great\", \"grown\", \"gud\", \"guy\", \"guy\", \"happy\", \"happy\", \"happy\", \"heal\", \"health\", \"health\", \"health\", \"health\", \"healthy\", \"healthy\", \"healthy\", \"healthy\", \"hear\", \"hectic\", \"help\", \"help\", \"help\", \"herb\", \"herb\", \"highly\", \"highly\", \"highly\", \"highly\", \"honey\", \"hot\", \"hot\", \"hot\", \"hour\", \"husband\", \"immediately\", \"immune\", \"immunity\", \"immunity\", \"immunity\", \"immunity\", \"incline\", \"increas\", \"infection\", \"infuse\", \"infusion\", \"ingredient\", \"ingredient\", \"ingredient\", \"innovative\", \"issue\", \"itand\", \"joint\", \"keep\", \"kid\", \"know\", \"last\", \"last\", \"latte\", \"latte\", \"leave\", \"legendary\", \"life\", \"lifestyle\", \"little\", \"little\", \"look\", \"lot\", \"love\", \"love\", \"love\", \"love\", \"luke\", \"luke\", \"make\", \"make\", \"make\", \"make\", \"make\", \"manage\", \"mandatory\", \"many\", \"many\", \"milk\", \"milk\", \"milk\", \"milk\", \"milk\", \"milk\", \"milk\", \"mind\", \"mixed\", \"month\", \"morning\", \"morning\", \"much\", \"much\", \"multi\", \"natural\", \"natural\", \"natural\", \"nature\", \"nature\", \"nd\", \"need\", \"need\", \"nice\", \"nice\", \"nice\", \"nice\", \"nice\", \"night\", \"notice\", \"nutrient\", \"one\", \"opt\", \"option\", \"order\", \"order\", \"order\", \"order\", \"organic\", \"pack\", \"pack\", \"packaging\", \"packaging\", \"packaging\", \"pandemic\", \"pandemic\", \"part\", \"part\", \"pepper\", \"pepper\", \"planning\", \"portion\", \"powder\", \"powder\", \"powder\", \"powdered\", \"power\", \"power\", \"preparation\", \"preservative\", \"prevent\", \"product\", \"product\", \"product\", \"product\", \"product\", \"product\", \"product\", \"product\", \"productgood\", \"productwe\", \"promise\", \"promote\", \"property\", \"protective\", \"pure\", \"quality\", \"quality\", \"quantity\", \"quantity\", \"readymade\", \"real\", \"realise\", \"really\", \"really\", \"really\", \"really\", \"reason\", \"recommend\", \"recommend\", \"recommend\", \"recommend\", \"recommend\", \"recommend\", \"regularly\", \"regularly\", \"reorder\", \"response\", \"result\", \"rich\", \"rich\", \"rich\", \"right\", \"routine\", \"sachet\", \"saffron\", \"saffron\", \"saffron\", \"satisfied\", \"say\", \"separate\", \"simply\", \"situation\", \"size\", \"sleep\", \"smoothie\", \"sometime\", \"soreness\", \"speak\", \"spice\", \"spice\", \"spice\", \"spicery\", \"spoon\", \"spoon\", \"stand\", \"stomach\", \"strand\", \"strengthen\", \"strong\", \"strong\", \"stuff\", \"subtle\", \"suffola\", \"sugar\", \"suggestionit\", \"super\", \"superb\", \"support\", \"sweet\", \"system\", \"take\", \"take\", \"take\", \"taste\", \"taste\", \"taste\", \"taste\", \"taste\", \"taste\", \"taste\", \"taste\", \"tasty\", \"teacoffee\", \"tear\", \"teaste\", \"test\", \"test\", \"thing\", \"thing\", \"thus\", \"time\", \"time\", \"time\", \"tonic\", \"top\", \"totally\", \"trigger\", \"trust\", \"trust\", \"try\", \"try\", \"try\", \"try\", \"tumeric\", \"turmeric\", \"turmeric\", \"turmeric\", \"turmeric\", \"turmeric\", \"turmeric\", \"turmeric\", \"twice\", \"twice\", \"type\", \"use\", \"use\", \"use\", \"use\", \"useful\", \"vanilla\", \"variation\", \"ve\", \"warm\", \"warm\", \"warm\", \"warm\", \"water\", \"water\", \"week\", \"week\", \"well\", \"well\", \"wellness\", \"worried\", \"worth\", \"yogue\"]}, \"R\": 30, \"lambda.step\": 0.01, \"plot.opts\": {\"xlab\": \"PC1\", \"ylab\": \"PC2\"}, \"topic.order\": [9, 6, 8, 5, 10, 3, 2, 4, 1, 7]};\n",
       "\n",
       "function LDAvis_load_lib(url, callback){\n",
       "  var s = document.createElement('script');\n",
       "  s.src = url;\n",
       "  s.async = true;\n",
       "  s.onreadystatechange = s.onload = callback;\n",
       "  s.onerror = function(){console.warn(\"failed to load library \" + url);};\n",
       "  document.getElementsByTagName(\"head\")[0].appendChild(s);\n",
       "}\n",
       "\n",
       "if(typeof(LDAvis) !== \"undefined\"){\n",
       "   // already loaded: just create the visualization\n",
       "   !function(LDAvis){\n",
       "       new LDAvis(\"#\" + \"ldavis_el1622014913298852324039553090\", ldavis_el1622014913298852324039553090_data);\n",
       "   }(LDAvis);\n",
       "}else if(typeof define === \"function\" && define.amd){\n",
       "   // require.js is available: use it to load d3/LDAvis\n",
       "   require.config({paths: {d3: \"https://d3js.org/d3.v5\"}});\n",
       "   require([\"d3\"], function(d3){\n",
       "      window.d3 = d3;\n",
       "      LDAvis_load_lib(\"https://cdn.jsdelivr.net/gh/bmabey/pyLDAvis@3.3.1/pyLDAvis/js/ldavis.v3.0.0.js\", function(){\n",
       "        new LDAvis(\"#\" + \"ldavis_el1622014913298852324039553090\", ldavis_el1622014913298852324039553090_data);\n",
       "      });\n",
       "    });\n",
       "}else{\n",
       "    // require.js not available: dynamically load d3 & LDAvis\n",
       "    LDAvis_load_lib(\"https://d3js.org/d3.v5.js\", function(){\n",
       "         LDAvis_load_lib(\"https://cdn.jsdelivr.net/gh/bmabey/pyLDAvis@3.3.1/pyLDAvis/js/ldavis.v3.0.0.js\", function(){\n",
       "                 new LDAvis(\"#\" + \"ldavis_el1622014913298852324039553090\", ldavis_el1622014913298852324039553090_data);\n",
       "            })\n",
       "         });\n",
       "}\n",
       "</script>"
      ],
      "text/plain": [
       "PreparedData(topic_coordinates=              x         y  topics  cluster       Freq\n",
       "topic                                                \n",
       "8     -0.173082  0.053793       1        1  34.788839\n",
       "5      0.206406 -0.075472       2        1  20.482068\n",
       "7     -0.010956  0.075141       3        1  10.169759\n",
       "4     -0.111641 -0.200970       4        1   9.159436\n",
       "9      0.008612  0.021253       5        1   7.105841\n",
       "2      0.043363  0.026033       6        1   7.104227\n",
       "1     -0.009623  0.008970       7        1   4.615925\n",
       "3      0.022468  0.076128       8        1   4.514670\n",
       "0      0.017946  0.021071       9        1   1.297277\n",
       "6      0.006507 -0.005947      10        1   0.761958, topic_info=          Term       Freq      Total Category  logprob  loglift\n",
       "78       taste  28.000000  28.000000  Default  30.0000  30.0000\n",
       "61     product  23.000000  23.000000  Default  29.0000  29.0000\n",
       "52    immunity  12.000000  12.000000  Default  28.0000  28.0000\n",
       "49      health  10.000000  10.000000  Default  27.0000  27.0000\n",
       "43       drink  13.000000  13.000000  Default  26.0000  26.0000\n",
       "..         ...        ...        ...      ...      ...      ...\n",
       "51         hot   0.019525   6.381576  Topic10  -6.1109  -0.9124\n",
       "73     flavour   0.019553   9.955892  Topic10  -6.1094  -1.3557\n",
       "148       free   0.019542   7.045424  Topic10  -6.1100  -1.0105\n",
       "167      spice   0.019541   7.098671  Topic10  -6.1101  -1.0181\n",
       "63   recommend   0.019496  11.161300  Topic10  -6.1123  -1.4729\n",
       "\n",
       "[506 rows x 6 columns], token_table=      Topic      Freq        Term\n",
       "term                             \n",
       "113       8  0.828935  absolutely\n",
       "70        6  0.767569      active\n",
       "177       1  0.580721         add\n",
       "177       3  0.387147         add\n",
       "368       7  0.827698      advice\n",
       "...     ...       ...         ...\n",
       "124       7  0.344938        well\n",
       "175       1  0.888546    wellness\n",
       "258       5  0.765561     worried\n",
       "176       1  0.888534       worth\n",
       "284       3  0.726862       yogue\n",
       "\n",
       "[465 rows x 3 columns], R=30, lambda_step=0.01, plot_opts={'xlab': 'PC1', 'ylab': 'PC2'}, topic_order=[9, 6, 8, 5, 10, 3, 2, 4, 1, 7])"
      ]
     },
     "execution_count": 19,
     "metadata": {},
     "output_type": "execute_result"
    }
   ],
   "source": [
    "# visulaise the topics\n",
    "\n",
    "pyLDAvis.enable_notebook()\n",
    "vis=pyLDAvis.gensim_models.prepare(lda_model,corpus,id2word)\n",
    "vis"
   ]
  },
  {
   "cell_type": "code",
   "execution_count": null,
   "metadata": {},
   "outputs": [],
   "source": []
  }
 ],
 "metadata": {
  "kernelspec": {
   "display_name": "Python 3",
   "language": "python",
   "name": "python3"
  },
  "language_info": {
   "codemirror_mode": {
    "name": "ipython",
    "version": 3
   },
   "file_extension": ".py",
   "mimetype": "text/x-python",
   "name": "python",
   "nbconvert_exporter": "python",
   "pygments_lexer": "ipython3",
   "version": "3.8.8"
  }
 },
 "nbformat": 4,
 "nbformat_minor": 4
}
